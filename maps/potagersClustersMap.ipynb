{
 "cells": [
  {
   "cell_type": "markdown",
   "metadata": {},
   "source": [
    "## Clusters de potagers en Île-de-France"
   ]
  },
  {
   "cell_type": "markdown",
   "metadata": {},
   "source": [
    "- L'objectif est de représenter les regroupements de potagers de Île-de-France.\n",
    "- Pour cela, on va utiliser le plugin **MarkerCluster** de la librairie **Folium**."
   ]
  },
  {
   "cell_type": "code",
   "execution_count": 1,
   "metadata": {},
   "outputs": [],
   "source": [
    "# import de quelques packages utiles\n",
    "\n",
    "import os\n",
    "import json\n",
    "import folium\n",
    "import pandas as pd\n",
    "import geopandas\n",
    "import numpy as np\n",
    "from folium import plugins\n",
    "from folium.plugins import MarkerCluster"
   ]
  },
  {
   "cell_type": "code",
   "execution_count": 2,
   "metadata": {},
   "outputs": [],
   "source": [
    "# instanciation d'un carte\n",
    "\n",
    "maCarte = folium.Map(\n",
    "            location=[48.8333, 2.5033],\n",
    "            tiles = 'cartodbpositron',\n",
    "            zoom_start = 8\n",
    ")"
   ]
  },
  {
   "cell_type": "code",
   "execution_count": 3,
   "metadata": {},
   "outputs": [],
   "source": [
    "# affichage de la carte\n",
    "\n",
    "#maCarte"
   ]
  },
  {
   "cell_type": "code",
   "execution_count": 4,
   "metadata": {},
   "outputs": [],
   "source": [
    "# on crée un dataframe avec les potagers\n",
    "\n",
    "centroides = geopandas.read_file(\"./data/centro_WGS84.geojson\")"
   ]
  },
  {
   "cell_type": "code",
   "execution_count": 5,
   "metadata": {},
   "outputs": [
    {
     "data": {
      "text/html": [
       "<div>\n",
       "<style scoped>\n",
       "    .dataframe tbody tr th:only-of-type {\n",
       "        vertical-align: middle;\n",
       "    }\n",
       "\n",
       "    .dataframe tbody tr th {\n",
       "        vertical-align: top;\n",
       "    }\n",
       "\n",
       "    .dataframe thead th {\n",
       "        text-align: right;\n",
       "    }\n",
       "</style>\n",
       "<table border=\"1\" class=\"dataframe\">\n",
       "  <thead>\n",
       "    <tr style=\"text-align: right;\">\n",
       "      <th></th>\n",
       "      <th>ID_Jard</th>\n",
       "      <th>Jard_Surf</th>\n",
       "      <th>Zone</th>\n",
       "      <th>Dpt_Code</th>\n",
       "      <th>Com_Code</th>\n",
       "      <th>long</th>\n",
       "      <th>lat</th>\n",
       "      <th>longgg</th>\n",
       "      <th>lattt</th>\n",
       "      <th>geometry</th>\n",
       "    </tr>\n",
       "  </thead>\n",
       "  <tbody>\n",
       "    <tr>\n",
       "      <th>0</th>\n",
       "      <td>1447</td>\n",
       "      <td>340.85</td>\n",
       "      <td>Roissy</td>\n",
       "      <td>95</td>\n",
       "      <td>95580</td>\n",
       "      <td>2.5652</td>\n",
       "      <td>49.092</td>\n",
       "      <td>2.565225</td>\n",
       "      <td>49.091613</td>\n",
       "      <td>POINT (2.56522 49.09161)</td>\n",
       "    </tr>\n",
       "    <tr>\n",
       "      <th>1</th>\n",
       "      <td>1448</td>\n",
       "      <td>107.66</td>\n",
       "      <td>Roissy</td>\n",
       "      <td>95</td>\n",
       "      <td>95580</td>\n",
       "      <td>2.5732</td>\n",
       "      <td>49.083</td>\n",
       "      <td>2.573197</td>\n",
       "      <td>49.082602</td>\n",
       "      <td>POINT (2.57320 49.08260)</td>\n",
       "    </tr>\n",
       "    <tr>\n",
       "      <th>2</th>\n",
       "      <td>1449</td>\n",
       "      <td>44.63</td>\n",
       "      <td>Roissy</td>\n",
       "      <td>95</td>\n",
       "      <td>95580</td>\n",
       "      <td>2.5633</td>\n",
       "      <td>49.090</td>\n",
       "      <td>2.563272</td>\n",
       "      <td>49.090147</td>\n",
       "      <td>POINT (2.56327 49.09015)</td>\n",
       "    </tr>\n",
       "    <tr>\n",
       "      <th>3</th>\n",
       "      <td>1450</td>\n",
       "      <td>101.08</td>\n",
       "      <td>Roissy</td>\n",
       "      <td>95</td>\n",
       "      <td>95580</td>\n",
       "      <td>2.5660</td>\n",
       "      <td>49.091</td>\n",
       "      <td>2.565987</td>\n",
       "      <td>49.090778</td>\n",
       "      <td>POINT (2.56599 49.09078)</td>\n",
       "    </tr>\n",
       "    <tr>\n",
       "      <th>4</th>\n",
       "      <td>1451</td>\n",
       "      <td>84.78</td>\n",
       "      <td>Roissy</td>\n",
       "      <td>95</td>\n",
       "      <td>95580</td>\n",
       "      <td>2.5669</td>\n",
       "      <td>49.092</td>\n",
       "      <td>2.566934</td>\n",
       "      <td>49.091832</td>\n",
       "      <td>POINT (2.56693 49.09183)</td>\n",
       "    </tr>\n",
       "  </tbody>\n",
       "</table>\n",
       "</div>"
      ],
      "text/plain": [
       "   ID_Jard  Jard_Surf    Zone Dpt_Code Com_Code    long     lat    longgg  \\\n",
       "0     1447     340.85  Roissy       95    95580  2.5652  49.092  2.565225   \n",
       "1     1448     107.66  Roissy       95    95580  2.5732  49.083  2.573197   \n",
       "2     1449      44.63  Roissy       95    95580  2.5633  49.090  2.563272   \n",
       "3     1450     101.08  Roissy       95    95580  2.5660  49.091  2.565987   \n",
       "4     1451      84.78  Roissy       95    95580  2.5669  49.092  2.566934   \n",
       "\n",
       "       lattt                  geometry  \n",
       "0  49.091613  POINT (2.56522 49.09161)  \n",
       "1  49.082602  POINT (2.57320 49.08260)  \n",
       "2  49.090147  POINT (2.56327 49.09015)  \n",
       "3  49.090778  POINT (2.56599 49.09078)  \n",
       "4  49.091832  POINT (2.56693 49.09183)  "
      ]
     },
     "execution_count": 5,
     "metadata": {},
     "output_type": "execute_result"
    }
   ],
   "source": [
    "# on check le DF\n",
    "\n",
    "centroides.head()"
   ]
  },
  {
   "cell_type": "code",
   "execution_count": 6,
   "metadata": {},
   "outputs": [],
   "source": [
    "# on crée un nouveau tableau des positions avec numpy\n",
    "\n",
    "tableauPositions = np.array([\n",
    "    centroides['lattt'],\n",
    "    centroides['longgg'],\n",
    "    centroides['ID_Jard']\n",
    "])"
   ]
  },
  {
   "cell_type": "code",
   "execution_count": 7,
   "metadata": {},
   "outputs": [
    {
     "data": {
      "text/plain": [
       "array([[4.90916126e+01, 4.90826017e+01, 4.90901475e+01, ...,\n",
       "        4.87352062e+01, 4.87321522e+01, 4.87321695e+01],\n",
       "       [2.56522451e+00, 2.57319685e+00, 2.56327156e+00, ...,\n",
       "        2.20252894e+00, 2.20648551e+00, 2.20659725e+00],\n",
       "       [1.44700000e+03, 1.44800000e+03, 1.44900000e+03, ...,\n",
       "        7.72100000e+03, 7.76500000e+03, 7.76600000e+03]])"
      ]
     },
     "execution_count": 7,
     "metadata": {},
     "output_type": "execute_result"
    }
   ],
   "source": [
    "tableauPositions"
   ]
  },
  {
   "cell_type": "code",
   "execution_count": 8,
   "metadata": {},
   "outputs": [],
   "source": [
    "# transposition du tableau\n",
    "\n",
    "tableauPositionsT = tableauPositions.T"
   ]
  },
  {
   "cell_type": "code",
   "execution_count": 9,
   "metadata": {},
   "outputs": [
    {
     "data": {
      "text/plain": [
       "(8098, 3)"
      ]
     },
     "execution_count": 9,
     "metadata": {},
     "output_type": "execute_result"
    }
   ],
   "source": [
    "# dimensions du tableau transposé\n",
    "\n",
    "tableauPositionsT.shape"
   ]
  },
  {
   "cell_type": "code",
   "execution_count": 10,
   "metadata": {},
   "outputs": [],
   "source": [
    "# instanciation d'une variable pour stocker une fonction javascript (écrite comme un string)\n",
    "# modifiera le css de base\n",
    "# --> ceci dans le but d'avoir des icones de carottes à la place des icones de base.\n",
    "\n",
    "icon_create_function = \"\"\"\n",
    "    function(cluster) {\n",
    "    var childCount = cluster.getChildCount(); \n",
    "    var c = ' marker-cluster-';\n",
    "\n",
    "    if (childCount < 50) {\n",
    "        c += 'large';\n",
    "    } else if (childCount < 300) {\n",
    "        c += 'medium';\n",
    "    } else {\n",
    "        c += 'small';\n",
    "    }\n",
    "\n",
    "    return new L.DivIcon({ html: '<div><span>' + childCount + '</span></div>', className: 'marker-cluster' + c, iconSize: new L.Point(40, 40) });\n",
    "    }\n",
    "    \"\"\""
   ]
  },
  {
   "cell_type": "code",
   "execution_count": 11,
   "metadata": {},
   "outputs": [],
   "source": [
    "# on fait appel au MarkerCluster avec la variable créée avant \n",
    "\n",
    "mc = MarkerCluster(name='Potagers', icon_create_function=icon_create_function)"
   ]
  },
  {
   "cell_type": "code",
   "execution_count": 12,
   "metadata": {},
   "outputs": [],
   "source": [
    "# itération pour tous les potagers\n",
    "\n",
    "for i in range(8098):\n",
    "    carrot_icon_link = \"./img/carrot_1.png\"\n",
    "    carrot_icon = folium.features.CustomIcon(carrot_icon_link, icon_size=(30, 29))\n",
    "    folium.Marker([tableauPositionsT[i][0], tableauPositionsT[i][1]], \n",
    "                  icon=carrot_icon, \n",
    "                  popup= 'Potager '+str(int(tableauPositionsT[i][2]))).add_to(mc)\n",
    "    mc.add_to(maCarte)"
   ]
  },
  {
   "cell_type": "code",
   "execution_count": 13,
   "metadata": {},
   "outputs": [
    {
     "data": {
      "text/plain": [
       "<folium.plugins.fullscreen.Fullscreen at 0x7fad8d65d550>"
      ]
     },
     "execution_count": 13,
     "metadata": {},
     "output_type": "execute_result"
    }
   ],
   "source": [
    "# ajout du plugin Fullscreen\n",
    "\n",
    "plugins.Fullscreen(\n",
    "        position = 'topright',\n",
    "        title = 'Plein écran',\n",
    "        force_separate_button = True).add_to(maCarte)"
   ]
  },
  {
   "cell_type": "code",
   "execution_count": 14,
   "metadata": {},
   "outputs": [
    {
     "data": {
      "text/plain": [
       "<folium.raster_layers.TileLayer at 0x7fad923521d0>"
      ]
     },
     "execution_count": 14,
     "metadata": {},
     "output_type": "execute_result"
    }
   ],
   "source": [
    "# ajout d'un fond de carte Stamen Toner\n",
    "\n",
    "coucheST = folium.TileLayer('Stamen Toner')\n",
    "coucheST.add_to(maCarte)"
   ]
  },
  {
   "cell_type": "code",
   "execution_count": 15,
   "metadata": {},
   "outputs": [
    {
     "data": {
      "text/plain": [
       "<folium.raster_layers.TileLayer at 0x7fad92354090>"
      ]
     },
     "execution_count": 15,
     "metadata": {},
     "output_type": "execute_result"
    }
   ],
   "source": [
    "# ajout d'un fond de carte OpenStreetMap\n",
    "\n",
    "coucheOSM = folium.TileLayer('openstreetmap')\n",
    "coucheOSM.add_to(maCarte)"
   ]
  },
  {
   "cell_type": "code",
   "execution_count": 16,
   "metadata": {},
   "outputs": [
    {
     "data": {
      "text/plain": [
       "<folium.map.LayerControl at 0x7fad92354f90>"
      ]
     },
     "execution_count": 16,
     "metadata": {},
     "output_type": "execute_result"
    }
   ],
   "source": [
    "# ajout plugin LayerControl\n",
    "\n",
    "folium.LayerControl().add_to(maCarte)"
   ]
  },
  {
   "cell_type": "code",
   "execution_count": 17,
   "metadata": {},
   "outputs": [],
   "source": [
    "#maCarte"
   ]
  },
  {
   "cell_type": "code",
   "execution_count": 18,
   "metadata": {},
   "outputs": [],
   "source": [
    "# on sauvegarde la carte\n",
    "maCarte.save('carteClustersPotagers.html')"
   ]
  },
  {
   "cell_type": "code",
   "execution_count": 19,
   "metadata": {},
   "outputs": [],
   "source": [
    "###"
   ]
  },
  {
   "cell_type": "code",
   "execution_count": null,
   "metadata": {},
   "outputs": [],
   "source": []
  }
 ],
 "metadata": {
  "kernelspec": {
   "display_name": "g2m",
   "language": "python",
   "name": "g2m"
  },
  "language_info": {
   "codemirror_mode": {
    "name": "ipython",
    "version": 3
   },
   "file_extension": ".py",
   "mimetype": "text/x-python",
   "name": "python",
   "nbconvert_exporter": "python",
   "pygments_lexer": "ipython3",
   "version": "3.7.7"
  }
 },
 "nbformat": 4,
 "nbformat_minor": 4
}
