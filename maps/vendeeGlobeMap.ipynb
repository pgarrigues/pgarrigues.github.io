{
 "cells": [
  {
   "cell_type": "markdown",
   "metadata": {},
   "source": [
    "## Positions de bateaux à plusieurs dates"
   ]
  },
  {
   "cell_type": "code",
   "execution_count": 61,
   "metadata": {},
   "outputs": [],
   "source": [
    "# importation des différents modules\n",
    "\n",
    "import os\n",
    "import json\n",
    "import folium\n",
    "import pandas as pd\n",
    "import geopandas\n",
    "import shapely\n",
    "import numpy as np\n",
    "from folium import plugins\n",
    "from folium.plugins import TimestampedGeoJson"
   ]
  },
  {
   "cell_type": "code",
   "execution_count": 62,
   "metadata": {},
   "outputs": [],
   "source": [
    "# importation des positions de bateaux\n",
    "\n",
    "positionsVG = pd.read_csv('./data/4_dataVG/positions_VG_dateHeure.csv')"
   ]
  },
  {
   "cell_type": "code",
   "execution_count": 63,
   "metadata": {},
   "outputs": [
    {
     "data": {
      "text/html": [
       "<div>\n",
       "<style scoped>\n",
       "    .dataframe tbody tr th:only-of-type {\n",
       "        vertical-align: middle;\n",
       "    }\n",
       "\n",
       "    .dataframe tbody tr th {\n",
       "        vertical-align: top;\n",
       "    }\n",
       "\n",
       "    .dataframe thead th {\n",
       "        text-align: right;\n",
       "    }\n",
       "</style>\n",
       "<table border=\"1\" class=\"dataframe\">\n",
       "  <thead>\n",
       "    <tr style=\"text-align: right;\">\n",
       "      <th></th>\n",
       "      <th>id</th>\n",
       "      <th>date</th>\n",
       "      <th>longitude</th>\n",
       "      <th>latitude</th>\n",
       "      <th>dateHeure</th>\n",
       "    </tr>\n",
       "  </thead>\n",
       "  <tbody>\n",
       "    <tr>\n",
       "      <th>0</th>\n",
       "      <td>FRA 18</td>\n",
       "      <td>2020-11-08</td>\n",
       "      <td>-1.841333</td>\n",
       "      <td>46.407667</td>\n",
       "      <td>2020-11-08T00:15:00</td>\n",
       "    </tr>\n",
       "    <tr>\n",
       "      <th>1</th>\n",
       "      <td>MON 10</td>\n",
       "      <td>2020-11-08</td>\n",
       "      <td>-1.830333</td>\n",
       "      <td>46.405667</td>\n",
       "      <td>2020-11-08T00:15:00</td>\n",
       "    </tr>\n",
       "    <tr>\n",
       "      <th>2</th>\n",
       "      <td>FRA 8</td>\n",
       "      <td>2020-11-08</td>\n",
       "      <td>-1.833167</td>\n",
       "      <td>46.415167</td>\n",
       "      <td>2020-11-08T00:15:00</td>\n",
       "    </tr>\n",
       "    <tr>\n",
       "      <th>3</th>\n",
       "      <td>FRA 59</td>\n",
       "      <td>2020-11-08</td>\n",
       "      <td>-1.828000</td>\n",
       "      <td>46.411833</td>\n",
       "      <td>2020-11-08T00:15:00</td>\n",
       "    </tr>\n",
       "    <tr>\n",
       "      <th>4</th>\n",
       "      <td>FRA 53</td>\n",
       "      <td>2020-11-08</td>\n",
       "      <td>-1.826000</td>\n",
       "      <td>46.409833</td>\n",
       "      <td>2020-11-08T00:15:00</td>\n",
       "    </tr>\n",
       "    <tr>\n",
       "      <th>...</th>\n",
       "      <td>...</td>\n",
       "      <td>...</td>\n",
       "      <td>...</td>\n",
       "      <td>...</td>\n",
       "      <td>...</td>\n",
       "    </tr>\n",
       "    <tr>\n",
       "      <th>1339</th>\n",
       "      <td>FRA 71</td>\n",
       "      <td>2020-12-25</td>\n",
       "      <td>128.274500</td>\n",
       "      <td>-43.231500</td>\n",
       "      <td>2020-12-25T00:15:00</td>\n",
       "    </tr>\n",
       "    <tr>\n",
       "      <th>1340</th>\n",
       "      <td>FRA 50</td>\n",
       "      <td>2020-12-25</td>\n",
       "      <td>110.020000</td>\n",
       "      <td>-45.679333</td>\n",
       "      <td>2020-12-25T00:15:00</td>\n",
       "    </tr>\n",
       "    <tr>\n",
       "      <th>1341</th>\n",
       "      <td>FRA 83</td>\n",
       "      <td>2020-12-25</td>\n",
       "      <td>108.423000</td>\n",
       "      <td>-44.661000</td>\n",
       "      <td>2020-12-25T00:15:00</td>\n",
       "    </tr>\n",
       "    <tr>\n",
       "      <th>1342</th>\n",
       "      <td>FRA 72</td>\n",
       "      <td>2020-12-25</td>\n",
       "      <td>103.757000</td>\n",
       "      <td>-44.772167</td>\n",
       "      <td>2020-12-25T00:15:00</td>\n",
       "    </tr>\n",
       "    <tr>\n",
       "      <th>1343</th>\n",
       "      <td>FIN 222</td>\n",
       "      <td>2020-12-25</td>\n",
       "      <td>96.312000</td>\n",
       "      <td>-44.866167</td>\n",
       "      <td>2020-12-25T00:15:00</td>\n",
       "    </tr>\n",
       "  </tbody>\n",
       "</table>\n",
       "<p>1344 rows × 5 columns</p>\n",
       "</div>"
      ],
      "text/plain": [
       "           id        date   longitude   latitude            dateHeure\n",
       "0      FRA 18  2020-11-08   -1.841333  46.407667  2020-11-08T00:15:00\n",
       "1      MON 10  2020-11-08   -1.830333  46.405667  2020-11-08T00:15:00\n",
       "2       FRA 8  2020-11-08   -1.833167  46.415167  2020-11-08T00:15:00\n",
       "3      FRA 59  2020-11-08   -1.828000  46.411833  2020-11-08T00:15:00\n",
       "4      FRA 53  2020-11-08   -1.826000  46.409833  2020-11-08T00:15:00\n",
       "...       ...         ...         ...        ...                  ...\n",
       "1339   FRA 71  2020-12-25  128.274500 -43.231500  2020-12-25T00:15:00\n",
       "1340   FRA 50  2020-12-25  110.020000 -45.679333  2020-12-25T00:15:00\n",
       "1341   FRA 83  2020-12-25  108.423000 -44.661000  2020-12-25T00:15:00\n",
       "1342   FRA 72  2020-12-25  103.757000 -44.772167  2020-12-25T00:15:00\n",
       "1343  FIN 222  2020-12-25   96.312000 -44.866167  2020-12-25T00:15:00\n",
       "\n",
       "[1344 rows x 5 columns]"
      ]
     },
     "execution_count": 63,
     "metadata": {},
     "output_type": "execute_result"
    }
   ],
   "source": [
    "# on regarde les données\n",
    "\n",
    "positionsVG"
   ]
  },
  {
   "cell_type": "code",
   "execution_count": 64,
   "metadata": {},
   "outputs": [],
   "source": [
    "# on transforme le DF en tableau avec numpy\n",
    "\n",
    "positions = positionsVG.to_numpy()"
   ]
  },
  {
   "cell_type": "code",
   "execution_count": 65,
   "metadata": {},
   "outputs": [
    {
     "data": {
      "text/plain": [
       "array([['FRA 18', '2020-11-08', -1.8413333333333302, 46.4076666666667,\n",
       "        '2020-11-08T00:15:00'],\n",
       "       ['MON 10', '2020-11-08', -1.8303333333333303, 46.4056666666667,\n",
       "        '2020-11-08T00:15:00'],\n",
       "       ['FRA 8', '2020-11-08', -1.83316666666667, 46.4151666666667,\n",
       "        '2020-11-08T00:15:00'],\n",
       "       ...,\n",
       "       ['FRA 83', '2020-12-25', 108.42299999999999, -44.661,\n",
       "        '2020-12-25T00:15:00'],\n",
       "       ['FRA 72', '2020-12-25', 103.757, -44.7721666666667,\n",
       "        '2020-12-25T00:15:00'],\n",
       "       ['FIN 222', '2020-12-25', 96.31200000000001, -44.8661666666667,\n",
       "        '2020-12-25T00:15:00']], dtype=object)"
      ]
     },
     "execution_count": 65,
     "metadata": {},
     "output_type": "execute_result"
    }
   ],
   "source": [
    "positions"
   ]
  },
  {
   "cell_type": "code",
   "execution_count": 66,
   "metadata": {},
   "outputs": [
    {
     "data": {
      "text/plain": [
       "1344"
      ]
     },
     "execution_count": 66,
     "metadata": {},
     "output_type": "execute_result"
    }
   ],
   "source": [
    "# longueur du tableau\n",
    "\n",
    "len(positions)"
   ]
  },
  {
   "cell_type": "code",
   "execution_count": 67,
   "metadata": {},
   "outputs": [],
   "source": [
    "# création des points de position\n",
    "\n",
    "points = [\n",
    "   {\n",
    "       'time': positions[i][4],\n",
    "       'coordinates': [positions[i][2], positions[i][3]],\n",
    "       'popup': positions[i][0]\n",
    "   }\n",
    "    for i in range(1344)\n",
    "]"
   ]
  },
  {
   "cell_type": "code",
   "execution_count": 68,
   "metadata": {},
   "outputs": [],
   "source": [
    "#points"
   ]
  },
  {
   "cell_type": "code",
   "execution_count": 69,
   "metadata": {},
   "outputs": [],
   "source": [
    "# creation des features\n",
    "\n",
    "features = [\n",
    "{\n",
    "    'type': 'Feature',\n",
    "    'geometry': {\n",
    "        'type': 'Point',\n",
    "        'coordinates': point['coordinates'],\n",
    "    },\n",
    "    'properties': {\n",
    "        'time': point['time'],\n",
    "        'popup': point['popup'],\n",
    "        'icon': 'marker',\n",
    "        \"iconstyle\": {\n",
    "            'iconUrl': './img/sail-boat.png',\n",
    "            'iconSize': [35, 35],\n",
    "        },\n",
    "    }\n",
    "} for point in points]"
   ]
  },
  {
   "cell_type": "code",
   "execution_count": 70,
   "metadata": {},
   "outputs": [],
   "source": [
    "#features"
   ]
  },
  {
   "cell_type": "code",
   "execution_count": 71,
   "metadata": {},
   "outputs": [],
   "source": [
    "# on instancie une nouvelle carte\n",
    "\n",
    "maCarte = folium.Map(location=[35.68159659061569, 2.76451516151428], zoom_start=2)"
   ]
  },
  {
   "cell_type": "code",
   "execution_count": 72,
   "metadata": {},
   "outputs": [
    {
     "data": {
      "text/plain": [
       "<folium.plugins.timestamped_geo_json.TimestampedGeoJson at 0x7fb354b08f90>"
      ]
     },
     "execution_count": 72,
     "metadata": {},
     "output_type": "execute_result"
    }
   ],
   "source": [
    "# on fait appelle au plugin TimestampedGeoJson\n",
    "\n",
    "plugins.TimestampedGeoJson(\n",
    "    {\n",
    "        \"type\": \"FeatureCollection\",\n",
    "        \"features\": features,\n",
    "    },\n",
    "    period=\"PT1M\",\n",
    "    add_last_point=True,\n",
    "    duration=\"P1D\",\n",
    "    transition_time=1\n",
    ").add_to(maCarte)"
   ]
  },
  {
   "cell_type": "code",
   "execution_count": 73,
   "metadata": {},
   "outputs": [
    {
     "data": {
      "text/plain": [
       "<folium.plugins.fullscreen.Fullscreen at 0x7fb3546de850>"
      ]
     },
     "execution_count": 73,
     "metadata": {},
     "output_type": "execute_result"
    }
   ],
   "source": [
    "# ajout du plugin Fullscreen\n",
    "\n",
    "plugins.Fullscreen(\n",
    "        position = 'topright',\n",
    "        title = 'Plein écran',\n",
    "        force_separate_button = True).add_to(maCarte)"
   ]
  },
  {
   "cell_type": "code",
   "execution_count": 74,
   "metadata": {},
   "outputs": [
    {
     "data": {
      "text/plain": [
       "<folium.raster_layers.TileLayer at 0x7fb354a9df10>"
      ]
     },
     "execution_count": 74,
     "metadata": {},
     "output_type": "execute_result"
    }
   ],
   "source": [
    "# ajout d'un fond de carte Stamen Toner\n",
    "\n",
    "coucheST = folium.TileLayer('Stamen Toner')\n",
    "coucheST.add_to(maCarte)"
   ]
  },
  {
   "cell_type": "code",
   "execution_count": 75,
   "metadata": {},
   "outputs": [
    {
     "data": {
      "text/plain": [
       "<folium.raster_layers.TileLayer at 0x7fb3546d3e10>"
      ]
     },
     "execution_count": 75,
     "metadata": {},
     "output_type": "execute_result"
    }
   ],
   "source": [
    "# ajout d'un fond de carte CartoDBpositron\n",
    "\n",
    "coucheCartoDB = folium.TileLayer('cartodbpositron')\n",
    "coucheCartoDB.add_to(maCarte)"
   ]
  },
  {
   "cell_type": "code",
   "execution_count": 76,
   "metadata": {},
   "outputs": [
    {
     "data": {
      "text/plain": [
       "<folium.map.LayerControl at 0x7fb354709c50>"
      ]
     },
     "execution_count": 76,
     "metadata": {},
     "output_type": "execute_result"
    }
   ],
   "source": [
    "# ajout plugin LayerControl\n",
    "\n",
    "folium.LayerControl().add_to(maCarte)"
   ]
  },
  {
   "cell_type": "code",
   "execution_count": 77,
   "metadata": {},
   "outputs": [],
   "source": [
    "#maCarte"
   ]
  },
  {
   "cell_type": "code",
   "execution_count": 78,
   "metadata": {},
   "outputs": [],
   "source": [
    "# on sauvegarde la carte\n",
    "\n",
    "maCarte.save('VG.html')"
   ]
  },
  {
   "cell_type": "code",
   "execution_count": 79,
   "metadata": {},
   "outputs": [],
   "source": [
    "#help(folium.plugins.timestamped_geo_json)"
   ]
  },
  {
   "cell_type": "code",
   "execution_count": 80,
   "metadata": {},
   "outputs": [],
   "source": [
    "#####"
   ]
  },
  {
   "cell_type": "code",
   "execution_count": null,
   "metadata": {},
   "outputs": [],
   "source": []
  }
 ],
 "metadata": {
  "kernelspec": {
   "display_name": "g2m",
   "language": "python",
   "name": "g2m"
  },
  "language_info": {
   "codemirror_mode": {
    "name": "ipython",
    "version": 3
   },
   "file_extension": ".py",
   "mimetype": "text/x-python",
   "name": "python",
   "nbconvert_exporter": "python",
   "pygments_lexer": "ipython3",
   "version": "3.7.7"
  }
 },
 "nbformat": 4,
 "nbformat_minor": 4
}
