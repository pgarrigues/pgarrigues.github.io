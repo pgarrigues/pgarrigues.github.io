{
 "cells": [
  {
   "cell_type": "markdown",
   "metadata": {},
   "source": [
    "## Comparaison surface potager par commune et note globale des 6 indicateurs"
   ]
  },
  {
   "cell_type": "code",
   "execution_count": 1,
   "metadata": {},
   "outputs": [],
   "source": [
    "# import des packages\n",
    "\n",
    "import os\n",
    "import json\n",
    "import folium\n",
    "import pandas as pd\n",
    "import geopandas\n",
    "import shapely\n",
    "import numpy as np\n",
    "from folium import plugins"
   ]
  },
  {
   "cell_type": "code",
   "execution_count": 2,
   "metadata": {},
   "outputs": [],
   "source": [
    "# instanciation carte\n",
    "\n",
    "maCarte = folium.Map(\n",
    "            location=[48.8633, 2.3333],\n",
    "            tiles = 'openstreetmap',\n",
    "            zoom_start = 10\n",
    ")"
   ]
  },
  {
   "cell_type": "code",
   "execution_count": 3,
   "metadata": {},
   "outputs": [],
   "source": [
    "# chemin des données\n",
    "\n",
    "cheminCommunes = os.path.join('./data/communesSixBis.geojson')"
   ]
  },
  {
   "cell_type": "code",
   "execution_count": 4,
   "metadata": {},
   "outputs": [],
   "source": [
    "# chargement des données\n",
    "\n",
    "communes = json.load(open(cheminCommunes))"
   ]
  },
  {
   "cell_type": "code",
   "execution_count": 5,
   "metadata": {},
   "outputs": [],
   "source": [
    "# plugin geojson de folium\n",
    "\n",
    "gj = folium.GeoJson(cheminCommunes,\n",
    "                   style_function= lambda feature: {\n",
    "                       'fillColor':'red',\n",
    "                       'color':'yellow',\n",
    "                       'weight':1\n",
    "                   })"
   ]
  },
  {
   "cell_type": "code",
   "execution_count": 6,
   "metadata": {},
   "outputs": [
    {
     "data": {
      "text/plain": [
       "<folium.features.GeoJson at 0x7ff57d519ed0>"
      ]
     },
     "execution_count": 6,
     "metadata": {},
     "output_type": "execute_result"
    }
   ],
   "source": [
    "# ajout à la carte\n",
    "\n",
    "gj.add_to(maCarte)"
   ]
  },
  {
   "cell_type": "code",
   "execution_count": 7,
   "metadata": {},
   "outputs": [],
   "source": [
    "# creation d'un dataframe avec les données des communes\n",
    "\n",
    "communesbis = geopandas.read_file(\"./data/communesSixBis.geojson\")"
   ]
  },
  {
   "cell_type": "code",
   "execution_count": 8,
   "metadata": {},
   "outputs": [
    {
     "data": {
      "text/html": [
       "<div>\n",
       "<style scoped>\n",
       "    .dataframe tbody tr th:only-of-type {\n",
       "        vertical-align: middle;\n",
       "    }\n",
       "\n",
       "    .dataframe tbody tr th {\n",
       "        vertical-align: top;\n",
       "    }\n",
       "\n",
       "    .dataframe thead th {\n",
       "        text-align: right;\n",
       "    }\n",
       "</style>\n",
       "<table border=\"1\" class=\"dataframe\">\n",
       "  <thead>\n",
       "    <tr style=\"text-align: right;\">\n",
       "      <th></th>\n",
       "      <th>gid</th>\n",
       "      <th>insee</th>\n",
       "      <th>nom</th>\n",
       "      <th>region</th>\n",
       "      <th>field_1</th>\n",
       "      <th>dep</th>\n",
       "      <th>code_com</th>\n",
       "      <th>commune</th>\n",
       "      <th>nb_potager</th>\n",
       "      <th>surf_tot_p</th>\n",
       "      <th>...</th>\n",
       "      <th>MED14</th>\n",
       "      <th>tx_de_chom</th>\n",
       "      <th>surf_moyen</th>\n",
       "      <th>surf_moy_1</th>\n",
       "      <th>tx_occupat</th>\n",
       "      <th>m2_pot_par</th>\n",
       "      <th>Six</th>\n",
       "      <th>SixBis</th>\n",
       "      <th>SixBisBis</th>\n",
       "      <th>geometry</th>\n",
       "    </tr>\n",
       "  </thead>\n",
       "  <tbody>\n",
       "    <tr>\n",
       "      <th>0</th>\n",
       "      <td>18818</td>\n",
       "      <td>91122</td>\n",
       "      <td>Bures-sur-Yvette</td>\n",
       "      <td>Île-de-France</td>\n",
       "      <td>49</td>\n",
       "      <td>91</td>\n",
       "      <td>91122</td>\n",
       "      <td>Bures-sur-Yvette</td>\n",
       "      <td>135</td>\n",
       "      <td>8007.52</td>\n",
       "      <td>...</td>\n",
       "      <td>320585</td>\n",
       "      <td>5.378391</td>\n",
       "      <td>665.162963</td>\n",
       "      <td>59.314963</td>\n",
       "      <td>11.789182</td>\n",
       "      <td>4215.786349</td>\n",
       "      <td>18.967111</td>\n",
       "      <td>0.900</td>\n",
       "      <td>0.900432</td>\n",
       "      <td>MULTIPOLYGON (((2.14142 48.69303, 2.14163 48.6...</td>\n",
       "    </tr>\n",
       "    <tr>\n",
       "      <th>1</th>\n",
       "      <td>18835</td>\n",
       "      <td>78688</td>\n",
       "      <td>Voisins-le-Bretonneux</td>\n",
       "      <td>Île-de-France</td>\n",
       "      <td>46</td>\n",
       "      <td>78</td>\n",
       "      <td>78688</td>\n",
       "      <td>Voisins-le-Bretonneux</td>\n",
       "      <td>38</td>\n",
       "      <td>1827.52</td>\n",
       "      <td>...</td>\n",
       "      <td>334960</td>\n",
       "      <td>4.769782</td>\n",
       "      <td>550.894737</td>\n",
       "      <td>48.092632</td>\n",
       "      <td>8.950217</td>\n",
       "      <td>996.116329</td>\n",
       "      <td>19.529589</td>\n",
       "      <td>0.912</td>\n",
       "      <td>0.911677</td>\n",
       "      <td>MULTIPOLYGON (((2.02559 48.75598, 2.02593 48.7...</td>\n",
       "    </tr>\n",
       "    <tr>\n",
       "      <th>2</th>\n",
       "      <td>19440</td>\n",
       "      <td>91587</td>\n",
       "      <td>Saulx-les-Chartreux</td>\n",
       "      <td>Île-de-France</td>\n",
       "      <td>66</td>\n",
       "      <td>91</td>\n",
       "      <td>91587</td>\n",
       "      <td>Saulx-les-Chartreux</td>\n",
       "      <td>128</td>\n",
       "      <td>22937.97</td>\n",
       "      <td>...</td>\n",
       "      <td>257405</td>\n",
       "      <td>6.736146</td>\n",
       "      <td>1900.750000</td>\n",
       "      <td>179.202891</td>\n",
       "      <td>20.952920</td>\n",
       "      <td>21182.767761</td>\n",
       "      <td>29.944834</td>\n",
       "      <td>1.900</td>\n",
       "      <td>1.899920</td>\n",
       "      <td>MULTIPOLYGON (((2.24132 48.68532, 2.24205 48.6...</td>\n",
       "    </tr>\n",
       "    <tr>\n",
       "      <th>3</th>\n",
       "      <td>19871</td>\n",
       "      <td>91538</td>\n",
       "      <td>Saint-Aubin</td>\n",
       "      <td>Île-de-France</td>\n",
       "      <td>65</td>\n",
       "      <td>91</td>\n",
       "      <td>91538</td>\n",
       "      <td>Saint-Aubin</td>\n",
       "      <td>9</td>\n",
       "      <td>2499.61</td>\n",
       "      <td>...</td>\n",
       "      <td>381257</td>\n",
       "      <td>6.220096</td>\n",
       "      <td>1319.000000</td>\n",
       "      <td>277.734444</td>\n",
       "      <td>14.371805</td>\n",
       "      <td>16437.815109</td>\n",
       "      <td>18.055751</td>\n",
       "      <td>0.822</td>\n",
       "      <td>0.821882</td>\n",
       "      <td>MULTIPOLYGON (((2.12218 48.71825, 2.12236 48.7...</td>\n",
       "    </tr>\n",
       "    <tr>\n",
       "      <th>4</th>\n",
       "      <td>19872</td>\n",
       "      <td>91272</td>\n",
       "      <td>Gif-sur-Yvette</td>\n",
       "      <td>Île-de-France</td>\n",
       "      <td>53</td>\n",
       "      <td>91</td>\n",
       "      <td>91272</td>\n",
       "      <td>Gif-sur-Yvette</td>\n",
       "      <td>99</td>\n",
       "      <td>8081.48</td>\n",
       "      <td>...</td>\n",
       "      <td>332105</td>\n",
       "      <td>5.399505</td>\n",
       "      <td>1319.000000</td>\n",
       "      <td>81.631111</td>\n",
       "      <td>10.617758</td>\n",
       "      <td>2029.771366</td>\n",
       "      <td>17.455208</td>\n",
       "      <td>0.871</td>\n",
       "      <td>0.871209</td>\n",
       "      <td>MULTIPOLYGON (((2.09587 48.70026, 2.09641 48.7...</td>\n",
       "    </tr>\n",
       "  </tbody>\n",
       "</table>\n",
       "<p>5 rows × 86 columns</p>\n",
       "</div>"
      ],
      "text/plain": [
       "     gid  insee                    nom         region  field_1  dep  code_com  \\\n",
       "0  18818  91122       Bures-sur-Yvette  Île-de-France       49   91     91122   \n",
       "1  18835  78688  Voisins-le-Bretonneux  Île-de-France       46   78     78688   \n",
       "2  19440  91587    Saulx-les-Chartreux  Île-de-France       66   91     91587   \n",
       "3  19871  91538            Saint-Aubin  Île-de-France       65   91     91538   \n",
       "4  19872  91272         Gif-sur-Yvette  Île-de-France       53   91     91272   \n",
       "\n",
       "                 commune  nb_potager  surf_tot_p  ...   MED14  tx_de_chom  \\\n",
       "0       Bures-sur-Yvette         135     8007.52  ...  320585    5.378391   \n",
       "1  Voisins-le-Bretonneux          38     1827.52  ...  334960    4.769782   \n",
       "2    Saulx-les-Chartreux         128    22937.97  ...  257405    6.736146   \n",
       "3            Saint-Aubin           9     2499.61  ...  381257    6.220096   \n",
       "4         Gif-sur-Yvette          99     8081.48  ...  332105    5.399505   \n",
       "\n",
       "    surf_moyen  surf_moy_1 tx_occupat    m2_pot_par        Six  SixBis  \\\n",
       "0   665.162963   59.314963  11.789182   4215.786349  18.967111   0.900   \n",
       "1   550.894737   48.092632   8.950217    996.116329  19.529589   0.912   \n",
       "2  1900.750000  179.202891  20.952920  21182.767761  29.944834   1.900   \n",
       "3  1319.000000  277.734444  14.371805  16437.815109  18.055751   0.822   \n",
       "4  1319.000000   81.631111  10.617758   2029.771366  17.455208   0.871   \n",
       "\n",
       "   SixBisBis                                           geometry  \n",
       "0   0.900432  MULTIPOLYGON (((2.14142 48.69303, 2.14163 48.6...  \n",
       "1   0.911677  MULTIPOLYGON (((2.02559 48.75598, 2.02593 48.7...  \n",
       "2   1.899920  MULTIPOLYGON (((2.24132 48.68532, 2.24205 48.6...  \n",
       "3   0.821882  MULTIPOLYGON (((2.12218 48.71825, 2.12236 48.7...  \n",
       "4   0.871209  MULTIPOLYGON (((2.09587 48.70026, 2.09641 48.7...  \n",
       "\n",
       "[5 rows x 86 columns]"
      ]
     },
     "execution_count": 8,
     "metadata": {},
     "output_type": "execute_result"
    }
   ],
   "source": [
    "# on regarde les premières lignes\n",
    "\n",
    "communesbis.head()"
   ]
  },
  {
   "cell_type": "code",
   "execution_count": 9,
   "metadata": {},
   "outputs": [
    {
     "data": {
      "text/plain": [
       "Index(['gid', 'insee', 'nom', 'region', 'field_1', 'dep', 'code_com',\n",
       "       'commune', 'nb_potager', 'surf_tot_p', 'superf_com', 'superficie',\n",
       "       'surf_potag', 'nb_habitan', 'NBMENFISC1', 'surf_pot_1', 'nb_potag_1',\n",
       "       'nb_potag_2', 'nb_potag_3', 'nb_logemen', 'part_H_FR_', 'part_F_FR_',\n",
       "       'part_H_ETR', 'part_F_ETR', 'part_H_F_1', 'part_F_F_1', 'part_H_E_1',\n",
       "       'part_F_E_1', 'part_H_F_2', 'part_F_F_2', 'part_H_E_2', 'part_F_E_2',\n",
       "       'part_H_F_3', 'part_F_F_3', 'part_H_E_3', 'part_F_E_3', 'part_H_F_4',\n",
       "       'part_F_F_4', 'part_H_E_4', 'part_F_E_4', 'part_H_F_5', 'part_F_F_5',\n",
       "       'part_H_E_5', 'part_F_E_5', 'part_H_F_6', 'part_F_F_6', 'part_H_E_6',\n",
       "       'part_F_E_6', 'part_H_F_7', 'part_F_F_7', 'part_H_E_7', 'part_F_E_7',\n",
       "       'part_H_18_', 'part_H_25_', 'part_H_40_', 'part_H_55_', 'part_H_65_',\n",
       "       'part_H_80p', 'part_F_18_', 'part_F_25_', 'part_F_40_', 'part_F_55_',\n",
       "       'part_F_65_', 'part_F_80p', 'res_princi', 'res_prin_1', 'res_prin_2',\n",
       "       'res_prin_3', 'res_prin_4', 'res_prin_5', 'res_prin_6', 'res_prin_7',\n",
       "       'res_prin_8', 'res_prin_9', 'res_prin10', 'res_prin11', 'MED14',\n",
       "       'tx_de_chom', 'surf_moyen', 'surf_moy_1', 'tx_occupat', 'm2_pot_par',\n",
       "       'Six', 'SixBis', 'SixBisBis', 'geometry'],\n",
       "      dtype='object')"
      ]
     },
     "execution_count": 9,
     "metadata": {},
     "output_type": "execute_result"
    }
   ],
   "source": [
    "# on check les colonnes\n",
    "\n",
    "communesbis.columns"
   ]
  },
  {
   "cell_type": "code",
   "execution_count": 10,
   "metadata": {},
   "outputs": [],
   "source": [
    "# pour la première carte -> m2 de potager par commune\n",
    "\n",
    "communesbisbis = communesbis[['gid', 'm2_pot_par']]"
   ]
  },
  {
   "cell_type": "code",
   "execution_count": 11,
   "metadata": {},
   "outputs": [],
   "source": [
    "# pour la seconde carte -> score global\n",
    "\n",
    "communesbisbisbis = communesbis[['gid', 'SixBisBis']]"
   ]
  },
  {
   "cell_type": "code",
   "execution_count": 12,
   "metadata": {},
   "outputs": [
    {
     "data": {
      "text/html": [
       "<div>\n",
       "<style scoped>\n",
       "    .dataframe tbody tr th:only-of-type {\n",
       "        vertical-align: middle;\n",
       "    }\n",
       "\n",
       "    .dataframe tbody tr th {\n",
       "        vertical-align: top;\n",
       "    }\n",
       "\n",
       "    .dataframe thead th {\n",
       "        text-align: right;\n",
       "    }\n",
       "</style>\n",
       "<table border=\"1\" class=\"dataframe\">\n",
       "  <thead>\n",
       "    <tr style=\"text-align: right;\">\n",
       "      <th></th>\n",
       "      <th>gid</th>\n",
       "      <th>m2_pot_par</th>\n",
       "    </tr>\n",
       "  </thead>\n",
       "  <tbody>\n",
       "    <tr>\n",
       "      <th>0</th>\n",
       "      <td>18818</td>\n",
       "      <td>4215.786349</td>\n",
       "    </tr>\n",
       "    <tr>\n",
       "      <th>1</th>\n",
       "      <td>18835</td>\n",
       "      <td>996.116329</td>\n",
       "    </tr>\n",
       "    <tr>\n",
       "      <th>2</th>\n",
       "      <td>19440</td>\n",
       "      <td>21182.767761</td>\n",
       "    </tr>\n",
       "    <tr>\n",
       "      <th>3</th>\n",
       "      <td>19871</td>\n",
       "      <td>16437.815109</td>\n",
       "    </tr>\n",
       "    <tr>\n",
       "      <th>4</th>\n",
       "      <td>19872</td>\n",
       "      <td>2029.771366</td>\n",
       "    </tr>\n",
       "    <tr>\n",
       "      <th>...</th>\n",
       "      <td>...</td>\n",
       "      <td>...</td>\n",
       "    </tr>\n",
       "    <tr>\n",
       "      <th>95</th>\n",
       "      <td>14446</td>\n",
       "      <td>14200.976784</td>\n",
       "    </tr>\n",
       "    <tr>\n",
       "      <th>96</th>\n",
       "      <td>14456</td>\n",
       "      <td>9610.972274</td>\n",
       "    </tr>\n",
       "    <tr>\n",
       "      <th>97</th>\n",
       "      <td>16566</td>\n",
       "      <td>4002.727405</td>\n",
       "    </tr>\n",
       "    <tr>\n",
       "      <th>98</th>\n",
       "      <td>18817</td>\n",
       "      <td>9175.159960</td>\n",
       "    </tr>\n",
       "    <tr>\n",
       "      <th>99</th>\n",
       "      <td>19441</td>\n",
       "      <td>14724.745801</td>\n",
       "    </tr>\n",
       "  </tbody>\n",
       "</table>\n",
       "<p>100 rows × 2 columns</p>\n",
       "</div>"
      ],
      "text/plain": [
       "      gid    m2_pot_par\n",
       "0   18818   4215.786349\n",
       "1   18835    996.116329\n",
       "2   19440  21182.767761\n",
       "3   19871  16437.815109\n",
       "4   19872   2029.771366\n",
       "..    ...           ...\n",
       "95  14446  14200.976784\n",
       "96  14456   9610.972274\n",
       "97  16566   4002.727405\n",
       "98  18817   9175.159960\n",
       "99  19441  14724.745801\n",
       "\n",
       "[100 rows x 2 columns]"
      ]
     },
     "execution_count": 12,
     "metadata": {},
     "output_type": "execute_result"
    }
   ],
   "source": [
    "communesbisbis"
   ]
  },
  {
   "cell_type": "code",
   "execution_count": 13,
   "metadata": {},
   "outputs": [
    {
     "data": {
      "text/html": [
       "<div>\n",
       "<style scoped>\n",
       "    .dataframe tbody tr th:only-of-type {\n",
       "        vertical-align: middle;\n",
       "    }\n",
       "\n",
       "    .dataframe tbody tr th {\n",
       "        vertical-align: top;\n",
       "    }\n",
       "\n",
       "    .dataframe thead th {\n",
       "        text-align: right;\n",
       "    }\n",
       "</style>\n",
       "<table border=\"1\" class=\"dataframe\">\n",
       "  <thead>\n",
       "    <tr style=\"text-align: right;\">\n",
       "      <th></th>\n",
       "      <th>gid</th>\n",
       "      <th>SixBisBis</th>\n",
       "    </tr>\n",
       "  </thead>\n",
       "  <tbody>\n",
       "    <tr>\n",
       "      <th>0</th>\n",
       "      <td>18818</td>\n",
       "      <td>0.900432</td>\n",
       "    </tr>\n",
       "    <tr>\n",
       "      <th>1</th>\n",
       "      <td>18835</td>\n",
       "      <td>0.911677</td>\n",
       "    </tr>\n",
       "    <tr>\n",
       "      <th>2</th>\n",
       "      <td>19440</td>\n",
       "      <td>1.899920</td>\n",
       "    </tr>\n",
       "    <tr>\n",
       "      <th>3</th>\n",
       "      <td>19871</td>\n",
       "      <td>0.821882</td>\n",
       "    </tr>\n",
       "    <tr>\n",
       "      <th>4</th>\n",
       "      <td>19872</td>\n",
       "      <td>0.871209</td>\n",
       "    </tr>\n",
       "    <tr>\n",
       "      <th>...</th>\n",
       "      <td>...</td>\n",
       "      <td>...</td>\n",
       "    </tr>\n",
       "    <tr>\n",
       "      <th>95</th>\n",
       "      <td>14446</td>\n",
       "      <td>2.108663</td>\n",
       "    </tr>\n",
       "    <tr>\n",
       "      <th>96</th>\n",
       "      <td>14456</td>\n",
       "      <td>1.455957</td>\n",
       "    </tr>\n",
       "    <tr>\n",
       "      <th>97</th>\n",
       "      <td>16566</td>\n",
       "      <td>0.886489</td>\n",
       "    </tr>\n",
       "    <tr>\n",
       "      <th>98</th>\n",
       "      <td>18817</td>\n",
       "      <td>1.607892</td>\n",
       "    </tr>\n",
       "    <tr>\n",
       "      <th>99</th>\n",
       "      <td>19441</td>\n",
       "      <td>2.022472</td>\n",
       "    </tr>\n",
       "  </tbody>\n",
       "</table>\n",
       "<p>100 rows × 2 columns</p>\n",
       "</div>"
      ],
      "text/plain": [
       "      gid  SixBisBis\n",
       "0   18818   0.900432\n",
       "1   18835   0.911677\n",
       "2   19440   1.899920\n",
       "3   19871   0.821882\n",
       "4   19872   0.871209\n",
       "..    ...        ...\n",
       "95  14446   2.108663\n",
       "96  14456   1.455957\n",
       "97  16566   0.886489\n",
       "98  18817   1.607892\n",
       "99  19441   2.022472\n",
       "\n",
       "[100 rows x 2 columns]"
      ]
     },
     "execution_count": 13,
     "metadata": {},
     "output_type": "execute_result"
    }
   ],
   "source": [
    "communesbisbisbis"
   ]
  },
  {
   "cell_type": "code",
   "execution_count": 14,
   "metadata": {},
   "outputs": [],
   "source": [
    "# création des bornes pour la légende\n",
    "mesBins = list(communesbisbis['m2_pot_par'].quantile([0, 0.20, 0.40, 0.60 ,0.80, 1.0]))\n",
    "mesBins2 = list(communesbisbisbis['SixBisBis'].quantile([0, 0.20, 0.40, 0.60 ,0.80, 1.0]))"
   ]
  },
  {
   "cell_type": "code",
   "execution_count": 15,
   "metadata": {},
   "outputs": [
    {
     "data": {
      "text/plain": [
       "[44.1006581356646,\n",
       " 3692.204573024864,\n",
       " 6081.451303987846,\n",
       " 8838.203762007535,\n",
       " 13727.926498292341,\n",
       " 39561.8109725559]"
      ]
     },
     "execution_count": 15,
     "metadata": {},
     "output_type": "execute_result"
    }
   ],
   "source": [
    "mesBins"
   ]
  },
  {
   "cell_type": "code",
   "execution_count": 16,
   "metadata": {},
   "outputs": [
    {
     "data": {
      "text/plain": [
       "[0.811787833,\n",
       " 1.1356912056000001,\n",
       " 1.4025558966,\n",
       " 1.629735565,\n",
       " 1.9021340858000002,\n",
       " 3.45818972]"
      ]
     },
     "execution_count": 16,
     "metadata": {},
     "output_type": "execute_result"
    }
   ],
   "source": [
    "mesBins2"
   ]
  },
  {
   "cell_type": "code",
   "execution_count": 17,
   "metadata": {},
   "outputs": [],
   "source": [
    "# création d'une dualmap\n",
    "\n",
    "m = plugins.DualMap(\n",
    "            location=[48.8633, 2.3333],\n",
    "            tiles = 'cartodbpositron',\n",
    "            zoom_start = 10\n",
    ")"
   ]
  },
  {
   "cell_type": "code",
   "execution_count": 18,
   "metadata": {},
   "outputs": [
    {
     "data": {
      "text/plain": [
       "<folium.features.Choropleth at 0x7ff57d9faa10>"
      ]
     },
     "execution_count": 18,
     "metadata": {},
     "output_type": "execute_result"
    }
   ],
   "source": [
    "folium.Choropleth(\n",
    "                    geo_data = communes,\n",
    "                    key_on = 'feature.properties.gid',\n",
    "                    data = communesbisbis,\n",
    "                    columns = ['gid', 'm2_pot_par'],\n",
    "                    legend_name = \"Surface de potager en m2 par km2 dhabitat individuel\",\n",
    "                    fill_color = 'YlGn',\n",
    "                    fill_opacity = 0.7,\n",
    "                    line_opacity = 0.7,\n",
    "                    highlight = True,\n",
    "                    name = 'Surface de potager',\n",
    "                    bins = [0, 5000, 10000, 20000, 30000, 40000]\n",
    ").add_to(m.m1)"
   ]
  },
  {
   "cell_type": "code",
   "execution_count": 19,
   "metadata": {},
   "outputs": [
    {
     "data": {
      "text/plain": [
       "<folium.features.Choropleth at 0x7ff57da4ff50>"
      ]
     },
     "execution_count": 19,
     "metadata": {},
     "output_type": "execute_result"
    }
   ],
   "source": [
    "folium.Choropleth(\n",
    "                    geo_data = communes,\n",
    "                    key_on = 'feature.properties.gid',\n",
    "                    data = communesbisbisbis,\n",
    "                    columns = ['gid', 'SixBisBis'],\n",
    "                    legend_name = \"Score : Combinaison des 6 variables explicatives\",\n",
    "                    fill_color = 'BuPu',\n",
    "                    fill_opacity = 0.7,\n",
    "                    line_opacity = 0.7,\n",
    "                    highlight = True,\n",
    "                    name = 'Combinaison des 6 variables explicatives',\n",
    "                    bins = mesBins2\n",
    ").add_to(m.m2)"
   ]
  },
  {
   "cell_type": "code",
   "execution_count": 20,
   "metadata": {},
   "outputs": [
    {
     "data": {
      "text/plain": [
       "<folium.plugins.fullscreen.Fullscreen at 0x7ff57da478d0>"
      ]
     },
     "execution_count": 20,
     "metadata": {},
     "output_type": "execute_result"
    }
   ],
   "source": [
    "plugins.Fullscreen(\n",
    "        position = 'topright',\n",
    "        title = 'Plein écran',\n",
    "        force_separate_button = True).add_to(m.m1)"
   ]
  },
  {
   "cell_type": "code",
   "execution_count": 21,
   "metadata": {},
   "outputs": [
    {
     "data": {
      "text/plain": [
       "<folium.plugins.fullscreen.Fullscreen at 0x7ff57da47e90>"
      ]
     },
     "execution_count": 21,
     "metadata": {},
     "output_type": "execute_result"
    }
   ],
   "source": [
    "plugins.Fullscreen(\n",
    "        position = 'topright',\n",
    "        title = 'Plein écran',\n",
    "        force_separate_button = True).add_to(m.m2)"
   ]
  },
  {
   "cell_type": "code",
   "execution_count": 22,
   "metadata": {},
   "outputs": [
    {
     "data": {
      "text/plain": [
       "<folium.raster_layers.TileLayer at 0x7ff57da47ad0>"
      ]
     },
     "execution_count": 22,
     "metadata": {},
     "output_type": "execute_result"
    }
   ],
   "source": [
    "# ajout d'un fond de carte Stamen Toner\n",
    "\n",
    "coucheST = folium.TileLayer('Stamen Toner')\n",
    "coucheST.add_to(m.m1)"
   ]
  },
  {
   "cell_type": "code",
   "execution_count": 23,
   "metadata": {},
   "outputs": [
    {
     "data": {
      "text/plain": [
       "<folium.raster_layers.TileLayer at 0x7ff57d9fad90>"
      ]
     },
     "execution_count": 23,
     "metadata": {},
     "output_type": "execute_result"
    }
   ],
   "source": [
    "# ajout d'un fond de carte Stamen Toner pour m2\n",
    "\n",
    "coucheST2 = folium.TileLayer('Stamen Toner')\n",
    "coucheST2.add_to(m.m2)"
   ]
  },
  {
   "cell_type": "code",
   "execution_count": 24,
   "metadata": {},
   "outputs": [
    {
     "data": {
      "text/plain": [
       "<folium.raster_layers.TileLayer at 0x7ff57d9f6d90>"
      ]
     },
     "execution_count": 24,
     "metadata": {},
     "output_type": "execute_result"
    }
   ],
   "source": [
    "# ajout d'un fond de carte OpenStreetMap\n",
    "\n",
    "coucheOSM = folium.TileLayer('openstreetmap')\n",
    "coucheOSM.add_to(m.m1)"
   ]
  },
  {
   "cell_type": "code",
   "execution_count": 25,
   "metadata": {},
   "outputs": [
    {
     "data": {
      "text/plain": [
       "<folium.raster_layers.TileLayer at 0x7ff57d9f6290>"
      ]
     },
     "execution_count": 25,
     "metadata": {},
     "output_type": "execute_result"
    }
   ],
   "source": [
    "# ajout d'un fond de carte OpenStreetMap pour m2\n",
    "\n",
    "coucheOSM2 = folium.TileLayer('openstreetmap')\n",
    "coucheOSM2.add_to(m.m2)"
   ]
  },
  {
   "cell_type": "code",
   "execution_count": 26,
   "metadata": {},
   "outputs": [
    {
     "data": {
      "text/plain": [
       "<folium.map.LayerControl at 0x7ff57da087d0>"
      ]
     },
     "execution_count": 26,
     "metadata": {},
     "output_type": "execute_result"
    }
   ],
   "source": [
    "# ajout plugin LayerControl\n",
    "\n",
    "folium.LayerControl().add_to(m.m1)"
   ]
  },
  {
   "cell_type": "code",
   "execution_count": 27,
   "metadata": {},
   "outputs": [
    {
     "data": {
      "text/plain": [
       "<folium.map.LayerControl at 0x7ff57da08210>"
      ]
     },
     "execution_count": 27,
     "metadata": {},
     "output_type": "execute_result"
    }
   ],
   "source": [
    "# ajout plugin LayerControl\n",
    "\n",
    "folium.LayerControl().add_to(m.m2)"
   ]
  },
  {
   "cell_type": "code",
   "execution_count": 28,
   "metadata": {},
   "outputs": [],
   "source": [
    "# affichage de la carte\n",
    "#m"
   ]
  },
  {
   "cell_type": "code",
   "execution_count": 29,
   "metadata": {},
   "outputs": [],
   "source": [
    "m.save('carteDualMapPotagers.html')"
   ]
  },
  {
   "cell_type": "code",
   "execution_count": 30,
   "metadata": {},
   "outputs": [],
   "source": [
    "####"
   ]
  },
  {
   "cell_type": "code",
   "execution_count": null,
   "metadata": {},
   "outputs": [],
   "source": []
  }
 ],
 "metadata": {
  "kernelspec": {
   "display_name": "g2m",
   "language": "python",
   "name": "g2m"
  },
  "language_info": {
   "codemirror_mode": {
    "name": "ipython",
    "version": 3
   },
   "file_extension": ".py",
   "mimetype": "text/x-python",
   "name": "python",
   "nbconvert_exporter": "python",
   "pygments_lexer": "ipython3",
   "version": "3.7.7"
  }
 },
 "nbformat": 4,
 "nbformat_minor": 4
}
