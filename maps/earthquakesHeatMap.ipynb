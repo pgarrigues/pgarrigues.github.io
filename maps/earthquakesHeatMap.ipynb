{
 "cells": [
  {
   "cell_type": "markdown",
   "metadata": {},
   "source": [
    "# Modélisation des tremblements de terre en 2020."
   ]
  },
  {
   "cell_type": "markdown",
   "metadata": {},
   "source": [
    "Téléchargement des données sur : https://earthquake.usgs.gov/earthquakes/search/"
   ]
  },
  {
   "cell_type": "code",
   "execution_count": 1,
   "metadata": {},
   "outputs": [],
   "source": [
    "# importation des différents modules\n",
    "\n",
    "import os\n",
    "import json\n",
    "import folium\n",
    "import pandas as pd\n",
    "import geopandas\n",
    "import shapely\n",
    "import numpy as np\n",
    "from folium import plugins"
   ]
  },
  {
   "cell_type": "code",
   "execution_count": 2,
   "metadata": {},
   "outputs": [],
   "source": [
    "# importation des données pour chaque mois de l'année\n",
    "\n",
    "EQ_janvier = pd.read_csv('./data/3_earthquakes/janvier.csv', sep=',')\n",
    "EQ_fevrier = pd.read_csv('./data/3_earthquakes/fevrier.csv', sep=',')\n",
    "EQ_mars = pd.read_csv('./data/3_earthquakes/mars.csv', sep=',')\n",
    "EQ_avril = pd.read_csv('./data/3_earthquakes/avril.csv', sep=',')\n",
    "EQ_mai = pd.read_csv('./data/3_earthquakes/mai.csv', sep=',')\n",
    "EQ_juin = pd.read_csv('./data/3_earthquakes/juin.csv', sep=',')\n",
    "EQ_juillet = pd.read_csv('./data/3_earthquakes/juillet.csv', sep=',')\n",
    "EQ_aout = pd.read_csv('./data/3_earthquakes/aout.csv', sep=',')\n",
    "EQ_septembre = pd.read_csv('./data/3_earthquakes/septembre.csv', sep=',')\n",
    "EQ_octobre = pd.read_csv('./data/3_earthquakes/octobre.csv', sep=',')\n",
    "EQ_novembre = pd.read_csv('./data/3_earthquakes/novembre.csv', sep=',')\n",
    "EQ_decembre = pd.read_csv('./data/3_earthquakes/decembre.csv', sep=',')"
   ]
  },
  {
   "cell_type": "code",
   "execution_count": 3,
   "metadata": {},
   "outputs": [
    {
     "data": {
      "text/html": [
       "<div>\n",
       "<style scoped>\n",
       "    .dataframe tbody tr th:only-of-type {\n",
       "        vertical-align: middle;\n",
       "    }\n",
       "\n",
       "    .dataframe tbody tr th {\n",
       "        vertical-align: top;\n",
       "    }\n",
       "\n",
       "    .dataframe thead th {\n",
       "        text-align: right;\n",
       "    }\n",
       "</style>\n",
       "<table border=\"1\" class=\"dataframe\">\n",
       "  <thead>\n",
       "    <tr style=\"text-align: right;\">\n",
       "      <th></th>\n",
       "      <th>time</th>\n",
       "      <th>latitude</th>\n",
       "      <th>longitude</th>\n",
       "      <th>depth</th>\n",
       "      <th>mag</th>\n",
       "      <th>magType</th>\n",
       "      <th>nst</th>\n",
       "      <th>gap</th>\n",
       "      <th>dmin</th>\n",
       "      <th>rms</th>\n",
       "      <th>...</th>\n",
       "      <th>updated</th>\n",
       "      <th>place</th>\n",
       "      <th>type</th>\n",
       "      <th>horizontalError</th>\n",
       "      <th>depthError</th>\n",
       "      <th>magError</th>\n",
       "      <th>magNst</th>\n",
       "      <th>status</th>\n",
       "      <th>locationSource</th>\n",
       "      <th>magSource</th>\n",
       "    </tr>\n",
       "  </thead>\n",
       "  <tbody>\n",
       "    <tr>\n",
       "      <th>0</th>\n",
       "      <td>2020-01-31T23:32:51.609Z</td>\n",
       "      <td>38.4961</td>\n",
       "      <td>39.3382</td>\n",
       "      <td>10.00</td>\n",
       "      <td>4.7</td>\n",
       "      <td>mwr</td>\n",
       "      <td>NaN</td>\n",
       "      <td>34</td>\n",
       "      <td>0.984</td>\n",
       "      <td>0.96</td>\n",
       "      <td>...</td>\n",
       "      <td>2020-04-18T22:10:07.040Z</td>\n",
       "      <td>5km NNE of Sivrice, Turkey</td>\n",
       "      <td>earthquake</td>\n",
       "      <td>4.9</td>\n",
       "      <td>1.9</td>\n",
       "      <td>0.071</td>\n",
       "      <td>19.0</td>\n",
       "      <td>reviewed</td>\n",
       "      <td>us</td>\n",
       "      <td>us</td>\n",
       "    </tr>\n",
       "    <tr>\n",
       "      <th>1</th>\n",
       "      <td>2020-01-31T23:06:11.255Z</td>\n",
       "      <td>-12.2747</td>\n",
       "      <td>-76.6148</td>\n",
       "      <td>75.51</td>\n",
       "      <td>4.7</td>\n",
       "      <td>mb</td>\n",
       "      <td>NaN</td>\n",
       "      <td>167</td>\n",
       "      <td>0.361</td>\n",
       "      <td>0.63</td>\n",
       "      <td>...</td>\n",
       "      <td>2020-04-18T22:10:07.040Z</td>\n",
       "      <td>21km ENE of San Bartolo, Peru</td>\n",
       "      <td>earthquake</td>\n",
       "      <td>13.6</td>\n",
       "      <td>6.7</td>\n",
       "      <td>0.074</td>\n",
       "      <td>55.0</td>\n",
       "      <td>reviewed</td>\n",
       "      <td>us</td>\n",
       "      <td>us</td>\n",
       "    </tr>\n",
       "    <tr>\n",
       "      <th>2</th>\n",
       "      <td>2020-01-31T22:10:55.844Z</td>\n",
       "      <td>-6.4065</td>\n",
       "      <td>129.1523</td>\n",
       "      <td>221.39</td>\n",
       "      <td>5.0</td>\n",
       "      <td>mww</td>\n",
       "      <td>NaN</td>\n",
       "      <td>28</td>\n",
       "      <td>2.643</td>\n",
       "      <td>0.72</td>\n",
       "      <td>...</td>\n",
       "      <td>2020-04-18T22:10:06.040Z</td>\n",
       "      <td>293km NW of Saumlaki, Indonesia</td>\n",
       "      <td>earthquake</td>\n",
       "      <td>6.9</td>\n",
       "      <td>4.2</td>\n",
       "      <td>0.071</td>\n",
       "      <td>19.0</td>\n",
       "      <td>reviewed</td>\n",
       "      <td>us</td>\n",
       "      <td>us</td>\n",
       "    </tr>\n",
       "    <tr>\n",
       "      <th>3</th>\n",
       "      <td>2020-01-31T20:34:28.793Z</td>\n",
       "      <td>6.0924</td>\n",
       "      <td>-82.5400</td>\n",
       "      <td>10.00</td>\n",
       "      <td>4.5</td>\n",
       "      <td>mb</td>\n",
       "      <td>NaN</td>\n",
       "      <td>94</td>\n",
       "      <td>2.429</td>\n",
       "      <td>1.28</td>\n",
       "      <td>...</td>\n",
       "      <td>2020-04-18T22:10:06.040Z</td>\n",
       "      <td>217km S of Punta de Burica, Panama</td>\n",
       "      <td>earthquake</td>\n",
       "      <td>6.9</td>\n",
       "      <td>1.9</td>\n",
       "      <td>0.093</td>\n",
       "      <td>37.0</td>\n",
       "      <td>reviewed</td>\n",
       "      <td>us</td>\n",
       "      <td>us</td>\n",
       "    </tr>\n",
       "    <tr>\n",
       "      <th>4</th>\n",
       "      <td>2020-01-31T17:07:46.302Z</td>\n",
       "      <td>35.8840</td>\n",
       "      <td>140.0639</td>\n",
       "      <td>64.00</td>\n",
       "      <td>5.3</td>\n",
       "      <td>mww</td>\n",
       "      <td>NaN</td>\n",
       "      <td>47</td>\n",
       "      <td>0.361</td>\n",
       "      <td>0.95</td>\n",
       "      <td>...</td>\n",
       "      <td>2020-05-01T23:32:01.131Z</td>\n",
       "      <td>2km SW of Toride, Japan</td>\n",
       "      <td>earthquake</td>\n",
       "      <td>6.1</td>\n",
       "      <td>1.8</td>\n",
       "      <td>0.063</td>\n",
       "      <td>24.0</td>\n",
       "      <td>reviewed</td>\n",
       "      <td>us</td>\n",
       "      <td>us</td>\n",
       "    </tr>\n",
       "  </tbody>\n",
       "</table>\n",
       "<p>5 rows × 22 columns</p>\n",
       "</div>"
      ],
      "text/plain": [
       "                       time  latitude  longitude   depth  mag magType  nst  \\\n",
       "0  2020-01-31T23:32:51.609Z   38.4961    39.3382   10.00  4.7     mwr  NaN   \n",
       "1  2020-01-31T23:06:11.255Z  -12.2747   -76.6148   75.51  4.7      mb  NaN   \n",
       "2  2020-01-31T22:10:55.844Z   -6.4065   129.1523  221.39  5.0     mww  NaN   \n",
       "3  2020-01-31T20:34:28.793Z    6.0924   -82.5400   10.00  4.5      mb  NaN   \n",
       "4  2020-01-31T17:07:46.302Z   35.8840   140.0639   64.00  5.3     mww  NaN   \n",
       "\n",
       "   gap   dmin   rms  ...                   updated  \\\n",
       "0   34  0.984  0.96  ...  2020-04-18T22:10:07.040Z   \n",
       "1  167  0.361  0.63  ...  2020-04-18T22:10:07.040Z   \n",
       "2   28  2.643  0.72  ...  2020-04-18T22:10:06.040Z   \n",
       "3   94  2.429  1.28  ...  2020-04-18T22:10:06.040Z   \n",
       "4   47  0.361  0.95  ...  2020-05-01T23:32:01.131Z   \n",
       "\n",
       "                                place        type horizontalError depthError  \\\n",
       "0          5km NNE of Sivrice, Turkey  earthquake             4.9        1.9   \n",
       "1       21km ENE of San Bartolo, Peru  earthquake            13.6        6.7   \n",
       "2     293km NW of Saumlaki, Indonesia  earthquake             6.9        4.2   \n",
       "3  217km S of Punta de Burica, Panama  earthquake             6.9        1.9   \n",
       "4             2km SW of Toride, Japan  earthquake             6.1        1.8   \n",
       "\n",
       "   magError  magNst    status  locationSource magSource  \n",
       "0     0.071    19.0  reviewed              us        us  \n",
       "1     0.074    55.0  reviewed              us        us  \n",
       "2     0.071    19.0  reviewed              us        us  \n",
       "3     0.093    37.0  reviewed              us        us  \n",
       "4     0.063    24.0  reviewed              us        us  \n",
       "\n",
       "[5 rows x 22 columns]"
      ]
     },
     "execution_count": 3,
     "metadata": {},
     "output_type": "execute_result"
    }
   ],
   "source": [
    "# observation des données\n",
    "\n",
    "EQ_janvier.head()"
   ]
  },
  {
   "cell_type": "code",
   "execution_count": 4,
   "metadata": {},
   "outputs": [
    {
     "data": {
      "text/plain": [
       "(656, 22)"
      ]
     },
     "execution_count": 4,
     "metadata": {},
     "output_type": "execute_result"
    }
   ],
   "source": [
    "# dimension\n",
    "\n",
    "EQ_janvier.shape"
   ]
  },
  {
   "cell_type": "code",
   "execution_count": 5,
   "metadata": {},
   "outputs": [],
   "source": [
    "# nouveau objet pour janvier\n",
    "\n",
    "EQ_janvier_bis = EQ_janvier[['latitude', 'longitude', 'mag']]"
   ]
  },
  {
   "cell_type": "code",
   "execution_count": 6,
   "metadata": {},
   "outputs": [
    {
     "data": {
      "text/html": [
       "<div>\n",
       "<style scoped>\n",
       "    .dataframe tbody tr th:only-of-type {\n",
       "        vertical-align: middle;\n",
       "    }\n",
       "\n",
       "    .dataframe tbody tr th {\n",
       "        vertical-align: top;\n",
       "    }\n",
       "\n",
       "    .dataframe thead th {\n",
       "        text-align: right;\n",
       "    }\n",
       "</style>\n",
       "<table border=\"1\" class=\"dataframe\">\n",
       "  <thead>\n",
       "    <tr style=\"text-align: right;\">\n",
       "      <th></th>\n",
       "      <th>latitude</th>\n",
       "      <th>longitude</th>\n",
       "      <th>mag</th>\n",
       "    </tr>\n",
       "  </thead>\n",
       "  <tbody>\n",
       "    <tr>\n",
       "      <th>0</th>\n",
       "      <td>38.4961</td>\n",
       "      <td>39.3382</td>\n",
       "      <td>4.7</td>\n",
       "    </tr>\n",
       "    <tr>\n",
       "      <th>1</th>\n",
       "      <td>-12.2747</td>\n",
       "      <td>-76.6148</td>\n",
       "      <td>4.7</td>\n",
       "    </tr>\n",
       "    <tr>\n",
       "      <th>2</th>\n",
       "      <td>-6.4065</td>\n",
       "      <td>129.1523</td>\n",
       "      <td>5.0</td>\n",
       "    </tr>\n",
       "    <tr>\n",
       "      <th>3</th>\n",
       "      <td>6.0924</td>\n",
       "      <td>-82.5400</td>\n",
       "      <td>4.5</td>\n",
       "    </tr>\n",
       "    <tr>\n",
       "      <th>4</th>\n",
       "      <td>35.8840</td>\n",
       "      <td>140.0639</td>\n",
       "      <td>5.3</td>\n",
       "    </tr>\n",
       "    <tr>\n",
       "      <th>...</th>\n",
       "      <td>...</td>\n",
       "      <td>...</td>\n",
       "      <td>...</td>\n",
       "    </tr>\n",
       "    <tr>\n",
       "      <th>651</th>\n",
       "      <td>51.6600</td>\n",
       "      <td>-176.6912</td>\n",
       "      <td>4.6</td>\n",
       "    </tr>\n",
       "    <tr>\n",
       "      <th>652</th>\n",
       "      <td>29.0289</td>\n",
       "      <td>105.0195</td>\n",
       "      <td>4.8</td>\n",
       "    </tr>\n",
       "    <tr>\n",
       "      <th>653</th>\n",
       "      <td>32.2879</td>\n",
       "      <td>138.3309</td>\n",
       "      <td>4.5</td>\n",
       "    </tr>\n",
       "    <tr>\n",
       "      <th>654</th>\n",
       "      <td>-5.3373</td>\n",
       "      <td>152.6003</td>\n",
       "      <td>4.6</td>\n",
       "    </tr>\n",
       "    <tr>\n",
       "      <th>655</th>\n",
       "      <td>-5.3245</td>\n",
       "      <td>152.5514</td>\n",
       "      <td>5.1</td>\n",
       "    </tr>\n",
       "  </tbody>\n",
       "</table>\n",
       "<p>656 rows × 3 columns</p>\n",
       "</div>"
      ],
      "text/plain": [
       "     latitude  longitude  mag\n",
       "0     38.4961    39.3382  4.7\n",
       "1    -12.2747   -76.6148  4.7\n",
       "2     -6.4065   129.1523  5.0\n",
       "3      6.0924   -82.5400  4.5\n",
       "4     35.8840   140.0639  5.3\n",
       "..        ...        ...  ...\n",
       "651   51.6600  -176.6912  4.6\n",
       "652   29.0289   105.0195  4.8\n",
       "653   32.2879   138.3309  4.5\n",
       "654   -5.3373   152.6003  4.6\n",
       "655   -5.3245   152.5514  5.1\n",
       "\n",
       "[656 rows x 3 columns]"
      ]
     },
     "execution_count": 6,
     "metadata": {},
     "output_type": "execute_result"
    }
   ],
   "source": [
    "EQ_janvier_bis"
   ]
  },
  {
   "cell_type": "code",
   "execution_count": 7,
   "metadata": {},
   "outputs": [],
   "source": [
    "# transformation en tableau pour janvier\n",
    "\n",
    "tab_janvier = EQ_janvier_bis[['latitude', 'longitude', 'mag']].to_numpy()"
   ]
  },
  {
   "cell_type": "code",
   "execution_count": 8,
   "metadata": {},
   "outputs": [
    {
     "data": {
      "text/plain": [
       "array([-12.2747, -76.6148,   4.7   ])"
      ]
     },
     "execution_count": 8,
     "metadata": {},
     "output_type": "execute_result"
    }
   ],
   "source": [
    "tab_janvier[1]"
   ]
  },
  {
   "cell_type": "code",
   "execution_count": 9,
   "metadata": {},
   "outputs": [],
   "source": [
    "# transformation en liste pour janvier\n",
    "\n",
    "data_janvier = tab_janvier.tolist()"
   ]
  },
  {
   "cell_type": "code",
   "execution_count": 10,
   "metadata": {},
   "outputs": [
    {
     "data": {
      "text/plain": [
       "list"
      ]
     },
     "execution_count": 10,
     "metadata": {},
     "output_type": "execute_result"
    }
   ],
   "source": [
    "# vérification\n",
    "\n",
    "type(data_janvier)"
   ]
  },
  {
   "cell_type": "code",
   "execution_count": 11,
   "metadata": {},
   "outputs": [],
   "source": [
    "#data_janvier"
   ]
  },
  {
   "cell_type": "code",
   "execution_count": 12,
   "metadata": {},
   "outputs": [],
   "source": [
    "# instanciation d'une carte\n",
    "\n",
    "maCarte = folium.Map(\n",
    "    location=[47.1, 55.3],\n",
    "    tiles=\"openstreetmap\",\n",
    "    zoom_start=1)"
   ]
  },
  {
   "cell_type": "code",
   "execution_count": 13,
   "metadata": {},
   "outputs": [],
   "source": [
    "# importation du plugin HeatMap\n",
    "\n",
    "from folium.plugins import HeatMap"
   ]
  },
  {
   "cell_type": "code",
   "execution_count": 14,
   "metadata": {},
   "outputs": [],
   "source": [
    "# HeatMap pour le mois de janvier\n",
    "\n",
    "hm = HeatMap(data_janvier)"
   ]
  },
  {
   "cell_type": "code",
   "execution_count": 15,
   "metadata": {},
   "outputs": [
    {
     "data": {
      "text/plain": [
       "<folium.plugins.heat_map.HeatMap at 0x7fce5158f6d0>"
      ]
     },
     "execution_count": 15,
     "metadata": {},
     "output_type": "execute_result"
    }
   ],
   "source": [
    "# on l'ajoute à la carte\n",
    "\n",
    "hm.add_to(maCarte)"
   ]
  },
  {
   "cell_type": "code",
   "execution_count": 16,
   "metadata": {},
   "outputs": [],
   "source": [
    "# on affiche la carte\n",
    "#maCarte"
   ]
  },
  {
   "cell_type": "code",
   "execution_count": 17,
   "metadata": {},
   "outputs": [],
   "source": [
    "# on fait pareil pour tous les autres mois...\n",
    "\n",
    "EQ_fevrier_bis = EQ_fevrier[['latitude', 'longitude', 'mag']]\n",
    "EQ_mars_bis = EQ_mars[['latitude', 'longitude', 'mag']]\n",
    "EQ_avril_bis = EQ_avril[['latitude', 'longitude', 'mag']]\n",
    "EQ_mai_bis = EQ_mai[['latitude', 'longitude', 'mag']]\n",
    "EQ_juin_bis = EQ_juin[['latitude', 'longitude', 'mag']]\n",
    "EQ_juillet_bis = EQ_juillet[['latitude', 'longitude', 'mag']]\n",
    "EQ_aout_bis = EQ_aout[['latitude', 'longitude', 'mag']]\n",
    "EQ_septembre_bis = EQ_septembre[['latitude', 'longitude', 'mag']]\n",
    "EQ_octobre_bis = EQ_octobre[['latitude', 'longitude', 'mag']]\n",
    "EQ_novembre_bis = EQ_novembre[['latitude', 'longitude', 'mag']]\n",
    "EQ_decembre_bis = EQ_decembre[['latitude', 'longitude', 'mag']]"
   ]
  },
  {
   "cell_type": "code",
   "execution_count": 18,
   "metadata": {},
   "outputs": [],
   "source": [
    "tab_fevrier = EQ_fevrier_bis[['latitude', 'longitude', 'mag']].to_numpy()\n",
    "tab_mars = EQ_mars_bis[['latitude', 'longitude', 'mag']].to_numpy()\n",
    "tab_avril = EQ_avril_bis[['latitude', 'longitude', 'mag']].to_numpy()\n",
    "tab_mai = EQ_mai_bis[['latitude', 'longitude', 'mag']].to_numpy()\n",
    "tab_juin = EQ_juin_bis[['latitude', 'longitude', 'mag']].to_numpy()\n",
    "tab_juillet = EQ_juillet_bis[['latitude', 'longitude', 'mag']].to_numpy()\n",
    "tab_aout = EQ_aout_bis[['latitude', 'longitude', 'mag']].to_numpy()\n",
    "tab_septembre = EQ_septembre_bis[['latitude', 'longitude', 'mag']].to_numpy()\n",
    "tab_octobre = EQ_octobre_bis[['latitude', 'longitude', 'mag']].to_numpy()\n",
    "tab_novembre = EQ_novembre_bis[['latitude', 'longitude', 'mag']].to_numpy()\n",
    "tab_decembre = EQ_decembre_bis[['latitude', 'longitude', 'mag']].to_numpy()"
   ]
  },
  {
   "cell_type": "code",
   "execution_count": 19,
   "metadata": {},
   "outputs": [],
   "source": [
    "data_fevrier = tab_fevrier.tolist()\n",
    "data_mars = tab_mars.tolist()\n",
    "data_avril = tab_avril.tolist()\n",
    "data_mai = tab_mai.tolist()\n",
    "data_juin = tab_juin.tolist()\n",
    "data_juillet = tab_juillet.tolist()\n",
    "data_aout = tab_aout.tolist()\n",
    "data_septembre = tab_septembre.tolist()\n",
    "data_octobre = tab_octobre.tolist()\n",
    "data_novembre = tab_novembre.tolist()\n",
    "data_decembre = tab_decembre.tolist()"
   ]
  },
  {
   "cell_type": "code",
   "execution_count": 20,
   "metadata": {},
   "outputs": [],
   "source": [
    "#data_fevrier"
   ]
  },
  {
   "cell_type": "code",
   "execution_count": 21,
   "metadata": {},
   "outputs": [],
   "source": [
    "# on ajoute toutes les données dans un seul tableau pour l'année 2020\n",
    "\n",
    "data2020 = [data_janvier, data_fevrier, data_mars, data_avril, data_mai, data_juin, data_juillet, data_aout, \n",
    "           data_septembre, data_octobre, data_novembre, data_decembre]"
   ]
  },
  {
   "cell_type": "code",
   "execution_count": 22,
   "metadata": {},
   "outputs": [
    {
     "data": {
      "text/plain": [
       "<folium.plugins.fullscreen.Fullscreen at 0x7fce51f0ee50>"
      ]
     },
     "execution_count": 22,
     "metadata": {},
     "output_type": "execute_result"
    }
   ],
   "source": [
    "# instanciation d'une nouvelle carte\n",
    "\n",
    "maCarte2 = folium.Map(\n",
    "    location=[15.1, 70.3],\n",
    "    tiles=\"openstreetmap\",\n",
    "    zoom_start=2)\n",
    "\n",
    "# ajout du widget Fullscreen\n",
    "\n",
    "plugins.Fullscreen(\n",
    "        position = 'topright',\n",
    "        title = 'Plein écran',\n",
    "        force_separate_button = True).add_to(maCarte2)"
   ]
  },
  {
   "cell_type": "code",
   "execution_count": 23,
   "metadata": {},
   "outputs": [
    {
     "data": {
      "text/plain": [
       "<folium.plugins.heat_map_withtime.HeatMapWithTime at 0x7fce5158fe50>"
      ]
     },
     "execution_count": 23,
     "metadata": {},
     "output_type": "execute_result"
    }
   ],
   "source": [
    "# carte de chaleur avec le temps\n",
    "\n",
    "from folium.plugins import HeatMapWithTime\n",
    "hmwt = HeatMapWithTime(data2020, auto_play=True)\n",
    "hmwt.add_to(maCarte2)"
   ]
  },
  {
   "cell_type": "code",
   "execution_count": 24,
   "metadata": {},
   "outputs": [],
   "source": [
    "#maCarte2"
   ]
  },
  {
   "cell_type": "code",
   "execution_count": 25,
   "metadata": {},
   "outputs": [],
   "source": [
    "# sauvegarde de la carte\n",
    "\n",
    "maCarte2.save('earthquakes.html')"
   ]
  },
  {
   "cell_type": "code",
   "execution_count": 26,
   "metadata": {},
   "outputs": [],
   "source": [
    "#help(folium.plugins.HeatMapWithTime)"
   ]
  },
  {
   "cell_type": "code",
   "execution_count": 27,
   "metadata": {},
   "outputs": [],
   "source": [
    "###"
   ]
  },
  {
   "cell_type": "code",
   "execution_count": null,
   "metadata": {},
   "outputs": [],
   "source": []
  }
 ],
 "metadata": {
  "kernelspec": {
   "display_name": "g2m",
   "language": "python",
   "name": "g2m"
  },
  "language_info": {
   "codemirror_mode": {
    "name": "ipython",
    "version": 3
   },
   "file_extension": ".py",
   "mimetype": "text/x-python",
   "name": "python",
   "nbconvert_exporter": "python",
   "pygments_lexer": "ipython3",
   "version": "3.7.7"
  }
 },
 "nbformat": 4,
 "nbformat_minor": 4
}
