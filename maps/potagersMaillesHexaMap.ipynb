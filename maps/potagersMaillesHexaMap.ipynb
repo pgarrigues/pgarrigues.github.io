{
 "cells": [
  {
   "cell_type": "markdown",
   "metadata": {},
   "source": [
    "# Densité de potagers en Île de France\n",
    "### Méthode des mailles hexagonales"
   ]
  },
  {
   "cell_type": "code",
   "execution_count": 1,
   "metadata": {},
   "outputs": [],
   "source": [
    "# import des packages\n",
    "\n",
    "import os\n",
    "import json\n",
    "import folium\n",
    "import pandas as pd\n",
    "import geopandas\n",
    "import shapely\n",
    "import numpy as np\n",
    "from folium import plugins\n",
    "from folium.plugins import MarkerCluster"
   ]
  },
  {
   "cell_type": "code",
   "execution_count": 2,
   "metadata": {},
   "outputs": [],
   "source": [
    "# instanciation d'une carte\n",
    "\n",
    "maCarte = folium.Map(\n",
    "            location=[48.8633, 2.3333],\n",
    "            tiles = 'openstreetmap',\n",
    "            zoom_start = 10\n",
    ")"
   ]
  },
  {
   "cell_type": "code",
   "execution_count": 3,
   "metadata": {},
   "outputs": [],
   "source": [
    "# chemin des données\n",
    "\n",
    "cheminHexa = os.path.join('./data/hexa.geojson')"
   ]
  },
  {
   "cell_type": "code",
   "execution_count": 4,
   "metadata": {},
   "outputs": [],
   "source": [
    "# on charge les données\n",
    "\n",
    "hexa = json.load(open(cheminHexa))"
   ]
  },
  {
   "cell_type": "code",
   "execution_count": 5,
   "metadata": {},
   "outputs": [],
   "source": [
    "# instanciation d'un objet Geojson\n",
    "\n",
    "gj = folium.GeoJson(cheminHexa,\n",
    "                   style_function= lambda feature: {\n",
    "                       'fillColor':'red',\n",
    "                       'color':'yellow',\n",
    "                       'weight':1\n",
    "                   })"
   ]
  },
  {
   "cell_type": "code",
   "execution_count": 6,
   "metadata": {},
   "outputs": [
    {
     "data": {
      "text/plain": [
       "<folium.features.GeoJson at 0x7fa489fdf950>"
      ]
     },
     "execution_count": 6,
     "metadata": {},
     "output_type": "execute_result"
    }
   ],
   "source": [
    "# ajout du Geojson à la carte\n",
    "\n",
    "gj.add_to(maCarte)"
   ]
  },
  {
   "cell_type": "code",
   "execution_count": 7,
   "metadata": {},
   "outputs": [],
   "source": [
    "# on affiche la carte\n",
    "\n",
    "#maCarte"
   ]
  },
  {
   "cell_type": "code",
   "execution_count": 8,
   "metadata": {},
   "outputs": [],
   "source": [
    "# importation des données sous forme de dataframe\n",
    "\n",
    "donneesPotagers = geopandas.read_file(\"./data/hexa.geojson\")"
   ]
  },
  {
   "cell_type": "code",
   "execution_count": 9,
   "metadata": {},
   "outputs": [
    {
     "data": {
      "text/plain": [
       "geopandas.geodataframe.GeoDataFrame"
      ]
     },
     "execution_count": 9,
     "metadata": {},
     "output_type": "execute_result"
    }
   ],
   "source": [
    "type(donneesPotagers)"
   ]
  },
  {
   "cell_type": "code",
   "execution_count": 10,
   "metadata": {},
   "outputs": [
    {
     "data": {
      "text/html": [
       "<div>\n",
       "<style scoped>\n",
       "    .dataframe tbody tr th:only-of-type {\n",
       "        vertical-align: middle;\n",
       "    }\n",
       "\n",
       "    .dataframe tbody tr th {\n",
       "        vertical-align: top;\n",
       "    }\n",
       "\n",
       "    .dataframe thead th {\n",
       "        text-align: right;\n",
       "    }\n",
       "</style>\n",
       "<table border=\"1\" class=\"dataframe\">\n",
       "  <thead>\n",
       "    <tr style=\"text-align: right;\">\n",
       "      <th></th>\n",
       "      <th>left</th>\n",
       "      <th>bottom</th>\n",
       "      <th>right</th>\n",
       "      <th>top</th>\n",
       "      <th>nb_pot</th>\n",
       "      <th>superficie</th>\n",
       "      <th>id</th>\n",
       "      <th>geometry</th>\n",
       "    </tr>\n",
       "  </thead>\n",
       "  <tbody>\n",
       "    <tr>\n",
       "      <th>0</th>\n",
       "      <td>618000.0</td>\n",
       "      <td>6.848532e+06</td>\n",
       "      <td>619333.333955</td>\n",
       "      <td>6.849687e+06</td>\n",
       "      <td>0</td>\n",
       "      <td>1.155</td>\n",
       "      <td>1</td>\n",
       "      <td>MULTIPOLYGON (((1.88496 48.73690, 1.88938 48.7...</td>\n",
       "    </tr>\n",
       "    <tr>\n",
       "      <th>1</th>\n",
       "      <td>618000.0</td>\n",
       "      <td>6.849687e+06</td>\n",
       "      <td>619333.333955</td>\n",
       "      <td>6.850841e+06</td>\n",
       "      <td>0</td>\n",
       "      <td>1.155</td>\n",
       "      <td>2</td>\n",
       "      <td>MULTIPOLYGON (((1.88474 48.74728, 1.88916 48.7...</td>\n",
       "    </tr>\n",
       "    <tr>\n",
       "      <th>2</th>\n",
       "      <td>618000.0</td>\n",
       "      <td>6.850841e+06</td>\n",
       "      <td>619333.333955</td>\n",
       "      <td>6.851996e+06</td>\n",
       "      <td>2</td>\n",
       "      <td>1.155</td>\n",
       "      <td>3</td>\n",
       "      <td>MULTIPOLYGON (((1.88451 48.75766, 1.88894 48.7...</td>\n",
       "    </tr>\n",
       "    <tr>\n",
       "      <th>3</th>\n",
       "      <td>618000.0</td>\n",
       "      <td>6.851996e+06</td>\n",
       "      <td>619333.333955</td>\n",
       "      <td>6.853151e+06</td>\n",
       "      <td>0</td>\n",
       "      <td>1.155</td>\n",
       "      <td>4</td>\n",
       "      <td>MULTIPOLYGON (((1.88429 48.76805, 1.88872 48.7...</td>\n",
       "    </tr>\n",
       "    <tr>\n",
       "      <th>4</th>\n",
       "      <td>618000.0</td>\n",
       "      <td>6.853151e+06</td>\n",
       "      <td>619333.333955</td>\n",
       "      <td>6.854306e+06</td>\n",
       "      <td>2</td>\n",
       "      <td>1.155</td>\n",
       "      <td>5</td>\n",
       "      <td>MULTIPOLYGON (((1.88407 48.77843, 1.88850 48.7...</td>\n",
       "    </tr>\n",
       "  </tbody>\n",
       "</table>\n",
       "</div>"
      ],
      "text/plain": [
       "       left        bottom          right           top  nb_pot  superficie  \\\n",
       "0  618000.0  6.848532e+06  619333.333955  6.849687e+06       0       1.155   \n",
       "1  618000.0  6.849687e+06  619333.333955  6.850841e+06       0       1.155   \n",
       "2  618000.0  6.850841e+06  619333.333955  6.851996e+06       2       1.155   \n",
       "3  618000.0  6.851996e+06  619333.333955  6.853151e+06       0       1.155   \n",
       "4  618000.0  6.853151e+06  619333.333955  6.854306e+06       2       1.155   \n",
       "\n",
       "   id                                           geometry  \n",
       "0   1  MULTIPOLYGON (((1.88496 48.73690, 1.88938 48.7...  \n",
       "1   2  MULTIPOLYGON (((1.88474 48.74728, 1.88916 48.7...  \n",
       "2   3  MULTIPOLYGON (((1.88451 48.75766, 1.88894 48.7...  \n",
       "3   4  MULTIPOLYGON (((1.88429 48.76805, 1.88872 48.7...  \n",
       "4   5  MULTIPOLYGON (((1.88407 48.77843, 1.88850 48.7...  "
      ]
     },
     "execution_count": 10,
     "metadata": {},
     "output_type": "execute_result"
    }
   ],
   "source": [
    "# on check les données\n",
    "\n",
    "donneesPotagers.head()"
   ]
  },
  {
   "cell_type": "code",
   "execution_count": 11,
   "metadata": {},
   "outputs": [
    {
     "data": {
      "text/plain": [
       "Index(['left', 'bottom', 'right', 'top', 'nb_pot', 'superficie', 'id',\n",
       "       'geometry'],\n",
       "      dtype='object')"
      ]
     },
     "execution_count": 11,
     "metadata": {},
     "output_type": "execute_result"
    }
   ],
   "source": [
    "donneesPotagers.columns"
   ]
  },
  {
   "cell_type": "code",
   "execution_count": 12,
   "metadata": {},
   "outputs": [],
   "source": [
    "# on crée un sous dataframe\n",
    "\n",
    "donneesPotagersUtiles = donneesPotagers[['id', 'nb_pot']]"
   ]
  },
  {
   "cell_type": "code",
   "execution_count": 13,
   "metadata": {},
   "outputs": [
    {
     "data": {
      "text/html": [
       "<div>\n",
       "<style scoped>\n",
       "    .dataframe tbody tr th:only-of-type {\n",
       "        vertical-align: middle;\n",
       "    }\n",
       "\n",
       "    .dataframe tbody tr th {\n",
       "        vertical-align: top;\n",
       "    }\n",
       "\n",
       "    .dataframe thead th {\n",
       "        text-align: right;\n",
       "    }\n",
       "</style>\n",
       "<table border=\"1\" class=\"dataframe\">\n",
       "  <thead>\n",
       "    <tr style=\"text-align: right;\">\n",
       "      <th></th>\n",
       "      <th>id</th>\n",
       "      <th>nb_pot</th>\n",
       "    </tr>\n",
       "  </thead>\n",
       "  <tbody>\n",
       "    <tr>\n",
       "      <th>0</th>\n",
       "      <td>1</td>\n",
       "      <td>0</td>\n",
       "    </tr>\n",
       "    <tr>\n",
       "      <th>1</th>\n",
       "      <td>2</td>\n",
       "      <td>0</td>\n",
       "    </tr>\n",
       "    <tr>\n",
       "      <th>2</th>\n",
       "      <td>3</td>\n",
       "      <td>2</td>\n",
       "    </tr>\n",
       "    <tr>\n",
       "      <th>3</th>\n",
       "      <td>4</td>\n",
       "      <td>0</td>\n",
       "    </tr>\n",
       "    <tr>\n",
       "      <th>4</th>\n",
       "      <td>5</td>\n",
       "      <td>2</td>\n",
       "    </tr>\n",
       "    <tr>\n",
       "      <th>...</th>\n",
       "      <td>...</td>\n",
       "      <td>...</td>\n",
       "    </tr>\n",
       "    <tr>\n",
       "      <th>835</th>\n",
       "      <td>836</td>\n",
       "      <td>0</td>\n",
       "    </tr>\n",
       "    <tr>\n",
       "      <th>836</th>\n",
       "      <td>837</td>\n",
       "      <td>0</td>\n",
       "    </tr>\n",
       "    <tr>\n",
       "      <th>837</th>\n",
       "      <td>838</td>\n",
       "      <td>18</td>\n",
       "    </tr>\n",
       "    <tr>\n",
       "      <th>838</th>\n",
       "      <td>839</td>\n",
       "      <td>0</td>\n",
       "    </tr>\n",
       "    <tr>\n",
       "      <th>839</th>\n",
       "      <td>840</td>\n",
       "      <td>0</td>\n",
       "    </tr>\n",
       "  </tbody>\n",
       "</table>\n",
       "<p>840 rows × 2 columns</p>\n",
       "</div>"
      ],
      "text/plain": [
       "      id  nb_pot\n",
       "0      1       0\n",
       "1      2       0\n",
       "2      3       2\n",
       "3      4       0\n",
       "4      5       2\n",
       "..   ...     ...\n",
       "835  836       0\n",
       "836  837       0\n",
       "837  838      18\n",
       "838  839       0\n",
       "839  840       0\n",
       "\n",
       "[840 rows x 2 columns]"
      ]
     },
     "execution_count": 13,
     "metadata": {},
     "output_type": "execute_result"
    }
   ],
   "source": [
    "donneesPotagersUtiles"
   ]
  },
  {
   "cell_type": "code",
   "execution_count": 14,
   "metadata": {},
   "outputs": [],
   "source": [
    "# On instancie une nouvelle carte\n",
    "\n",
    "maCarteC = folium.Map(\n",
    "            location=[48.8633, 2.3333],\n",
    "            tiles = 'Stamen Toner',\n",
    "            zoom_start = 10\n",
    ")"
   ]
  },
  {
   "cell_type": "code",
   "execution_count": 15,
   "metadata": {},
   "outputs": [
    {
     "data": {
      "text/plain": [
       "<folium.features.Choropleth at 0x7fa48a200c50>"
      ]
     },
     "execution_count": 15,
     "metadata": {},
     "output_type": "execute_result"
    }
   ],
   "source": [
    "# on utilise le plugin folium.Choropleth pour la carte\n",
    "\n",
    "folium.Choropleth(\n",
    "                    geo_data = hexa,\n",
    "                    key_on = 'feature.properties.id',\n",
    "                    data = donneesPotagersUtiles,\n",
    "                    columns = ['id', 'nb_pot'],\n",
    "                    legend_name = 'Nombre de potagers',\n",
    "                    fill_color = 'YlGn',\n",
    "                    fill_opacity = 0.7,\n",
    "                    line_opacity = 0.5,\n",
    "                    highlight = True,\n",
    "                    name = 'Densité potagers',\n",
    "                    bins = [0.0, 20.0, 40.0, 60.0, 80.0, 100.0, 140.0]\n",
    ").add_to(maCarteC)"
   ]
  },
  {
   "cell_type": "code",
   "execution_count": 16,
   "metadata": {},
   "outputs": [
    {
     "data": {
      "text/plain": [
       "<folium.plugins.fullscreen.Fullscreen at 0x7fa48a200fd0>"
      ]
     },
     "execution_count": 16,
     "metadata": {},
     "output_type": "execute_result"
    }
   ],
   "source": [
    "# ajout du plugin Fullscreen à la carte\n",
    "\n",
    "plugins.Fullscreen(\n",
    "        position = 'topright',\n",
    "        title = 'Plein écran',\n",
    "        force_separate_button = True).add_to(maCarteC)"
   ]
  },
  {
   "cell_type": "code",
   "execution_count": 17,
   "metadata": {},
   "outputs": [
    {
     "data": {
      "text/plain": [
       "<folium.raster_layers.TileLayer at 0x7fa48a268710>"
      ]
     },
     "execution_count": 17,
     "metadata": {},
     "output_type": "execute_result"
    }
   ],
   "source": [
    "# ajout d'un fond de carte CartoDBpositron\n",
    "\n",
    "coucheCartoDB = folium.TileLayer('cartodbpositron')\n",
    "coucheCartoDB.add_to(maCarteC)"
   ]
  },
  {
   "cell_type": "code",
   "execution_count": 18,
   "metadata": {},
   "outputs": [
    {
     "data": {
      "text/plain": [
       "<folium.raster_layers.TileLayer at 0x7fa48a268ed0>"
      ]
     },
     "execution_count": 18,
     "metadata": {},
     "output_type": "execute_result"
    }
   ],
   "source": [
    "# ajout d'un fond de carte OpenStreetMap\n",
    "\n",
    "coucheOSM = folium.TileLayer('openstreetmap')\n",
    "coucheOSM.add_to(maCarteC)"
   ]
  },
  {
   "cell_type": "code",
   "execution_count": 19,
   "metadata": {},
   "outputs": [
    {
     "data": {
      "text/plain": [
       "<folium.map.LayerControl at 0x7fa48a20eb10>"
      ]
     },
     "execution_count": 19,
     "metadata": {},
     "output_type": "execute_result"
    }
   ],
   "source": [
    "# ajout du plugin LayerControl à la carte\n",
    "\n",
    "folium.LayerControl().add_to(maCarteC)"
   ]
  },
  {
   "cell_type": "code",
   "execution_count": 20,
   "metadata": {},
   "outputs": [],
   "source": [
    "# affichage de la carte\n",
    "\n",
    "#maCarteC"
   ]
  },
  {
   "cell_type": "code",
   "execution_count": 21,
   "metadata": {},
   "outputs": [],
   "source": [
    "# sauvegarde de la carte\n",
    "\n",
    "maCarteC.save('cartePotagersMaillesHexa.html')"
   ]
  },
  {
   "cell_type": "code",
   "execution_count": 22,
   "metadata": {},
   "outputs": [],
   "source": [
    "#####"
   ]
  },
  {
   "cell_type": "code",
   "execution_count": null,
   "metadata": {},
   "outputs": [],
   "source": []
  }
 ],
 "metadata": {
  "kernelspec": {
   "display_name": "g2m",
   "language": "python",
   "name": "g2m"
  },
  "language_info": {
   "codemirror_mode": {
    "name": "ipython",
    "version": 3
   },
   "file_extension": ".py",
   "mimetype": "text/x-python",
   "name": "python",
   "nbconvert_exporter": "python",
   "pygments_lexer": "ipython3",
   "version": "3.7.7"
  }
 },
 "nbformat": 4,
 "nbformat_minor": 4
}
