{
 "cells": [
  {
   "cell_type": "code",
   "execution_count": 1,
   "metadata": {},
   "outputs": [],
   "source": [
    "# importation des différents modules\n",
    "\n",
    "import os\n",
    "import json\n",
    "import folium\n",
    "import pandas as pd\n",
    "import geopandas\n",
    "import shapely\n",
    "import numpy as np\n",
    "from folium import plugins\n",
    "from folium.plugins import TimestampedGeoJson"
   ]
  },
  {
   "cell_type": "code",
   "execution_count": 3,
   "metadata": {},
   "outputs": [],
   "source": [
    "points = [\n",
    "{\n",
    "    'time': '2020-11-08T00:15:00',\n",
    "    'coordinates': [18.528387, 73.874251]\n",
    "},\n",
    "{\n",
    "    'time': '2020-11-09T00:15:00',\n",
    "    'coordinates': [18.456863, 73.801601]\n",
    "},\n",
    "{\n",
    "    'time': '2020-11-10T00:15:00',\n",
    "    'coordinates': [18.527615, 73.872384]\n",
    "},\n",
    "{\n",
    "    'time': '2020-11-11T00:15:00',\n",
    "    'coordinates': [18.528387, 73.874251]},\n",
    "{\n",
    "    'time': '2020-11-12T00:15:00',\n",
    "    'coordinates': [18.456863, 73.801601]}]"
   ]
  },
  {
   "cell_type": "code",
   "execution_count": 5,
   "metadata": {},
   "outputs": [
    {
     "data": {
      "text/plain": [
       "[{'time': '2020-11-08T00:15:00', 'coordinates': [18.528387, 73.874251]},\n",
       " {'time': '2020-11-09T00:15:00', 'coordinates': [18.456863, 73.801601]},\n",
       " {'time': '2020-11-10T00:15:00', 'coordinates': [18.527615, 73.872384]},\n",
       " {'time': '2020-11-11T00:15:00', 'coordinates': [18.528387, 73.874251]},\n",
       " {'time': '2020-11-12T00:15:00', 'coordinates': [18.456863, 73.801601]}]"
      ]
     },
     "execution_count": 5,
     "metadata": {},
     "output_type": "execute_result"
    }
   ],
   "source": [
    "points"
   ]
  },
  {
   "cell_type": "code",
   "execution_count": 8,
   "metadata": {},
   "outputs": [],
   "source": [
    "features = [\n",
    "{\n",
    "    'type': 'Feature',\n",
    "    'geometry': {\n",
    "        'type': 'Point',\n",
    "        'coordinates': point['coordinates'],\n",
    "    },\n",
    "    'properties': {\n",
    "        'time': point['time']\n",
    "    }\n",
    "} for point in points]"
   ]
  },
  {
   "cell_type": "code",
   "execution_count": 10,
   "metadata": {},
   "outputs": [
    {
     "data": {
      "text/plain": [
       "[{'type': 'Feature',\n",
       "  'geometry': {'type': 'Point', 'coordinates': [18.528387, 73.874251]},\n",
       "  'properties': {'time': '2020-11-08T00:15:00'}},\n",
       " {'type': 'Feature',\n",
       "  'geometry': {'type': 'Point', 'coordinates': [18.456863, 73.801601]},\n",
       "  'properties': {'time': '2020-11-09T00:15:00'}},\n",
       " {'type': 'Feature',\n",
       "  'geometry': {'type': 'Point', 'coordinates': [18.527615, 73.872384]},\n",
       "  'properties': {'time': '2020-11-10T00:15:00'}},\n",
       " {'type': 'Feature',\n",
       "  'geometry': {'type': 'Point', 'coordinates': [18.528387, 73.874251]},\n",
       "  'properties': {'time': '2020-11-11T00:15:00'}},\n",
       " {'type': 'Feature',\n",
       "  'geometry': {'type': 'Point', 'coordinates': [18.456863, 73.801601]},\n",
       "  'properties': {'time': '2020-11-12T00:15:00'}}]"
      ]
     },
     "execution_count": 10,
     "metadata": {},
     "output_type": "execute_result"
    }
   ],
   "source": [
    "features"
   ]
  },
  {
   "cell_type": "code",
   "execution_count": 11,
   "metadata": {},
   "outputs": [],
   "source": [
    "m = folium.Map(location=[35.68159659061569, 139.76451516151428], zoom_start=16)"
   ]
  },
  {
   "cell_type": "code",
   "execution_count": null,
   "metadata": {},
   "outputs": [],
   "source": []
  }
 ],
 "metadata": {
  "kernelspec": {
   "display_name": "g2m",
   "language": "python",
   "name": "g2m"
  },
  "language_info": {
   "codemirror_mode": {
    "name": "ipython",
    "version": 3
   },
   "file_extension": ".py",
   "mimetype": "text/x-python",
   "name": "python",
   "nbconvert_exporter": "python",
   "pygments_lexer": "ipython3",
   "version": "3.7.7"
  }
 },
 "nbformat": 4,
 "nbformat_minor": 4
}
